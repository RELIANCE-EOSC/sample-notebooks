{
 "cells": [
  {
   "cell_type": "code",
   "execution_count": 1,
   "id": "43f9ab99-5b8b-45c4-aaff-77cc89c3c3e3",
   "metadata": {},
   "outputs": [
    {
     "name": "stdout",
     "output_type": "stream",
     "text": [
      "Collecting astropy\n",
      "  Downloading astropy-5.0.1-cp38-cp38-manylinux_2_12_x86_64.manylinux2010_x86_64.whl (11.2 MB)\n",
      "\u001b[K     |████████████████████████████████| 11.2 MB 4.2 MB/s eta 0:00:01\n",
      "\u001b[?25hCollecting rioxarray\n",
      "  Downloading rioxarray-0.9.1.tar.gz (47 kB)\n",
      "\u001b[K     |████████████████████████████████| 47 kB 4.4 MB/s  eta 0:00:01\n",
      "\u001b[?25h  Installing build dependencies ... \u001b[?25ldone\n",
      "\u001b[?25h  Getting requirements to build wheel ... \u001b[?25ldone\n",
      "\u001b[?25h    Preparing wheel metadata ... \u001b[?25ldone\n",
      "\u001b[?25hCollecting corner\n",
      "  Downloading corner-2.2.1-py3-none-any.whl (15 kB)\n",
      "Collecting emcee\n",
      "  Downloading emcee-3.1.1-py2.py3-none-any.whl (45 kB)\n",
      "\u001b[K     |████████████████████████████████| 45 kB 3.6 MB/s  eta 0:00:01\n",
      "\u001b[?25hCollecting rohub\n",
      "  Downloading rohub-1.0.3.tar.gz (37 kB)\n",
      "  Installing build dependencies ... \u001b[?25ldone\n",
      "\u001b[?25h  Getting requirements to build wheel ... \u001b[?25ldone\n",
      "\u001b[?25h    Preparing wheel metadata ... \u001b[?25ldone\n",
      "\u001b[?25hCollecting adamapi\n",
      "  Downloading adamapi-2.0.11-py3-none-any.whl (14 kB)\n",
      "Requirement already satisfied: PyYAML>=3.13 in /opt/conda/lib/python3.8/site-packages (from astropy->-r /home/jovyan/datahub/Reliance/Environments/ingv_reqs.txt (line 1)) (5.4.1)\n",
      "Requirement already satisfied: numpy>=1.18 in /opt/conda/lib/python3.8/site-packages (from astropy->-r /home/jovyan/datahub/Reliance/Environments/ingv_reqs.txt (line 1)) (1.19.5)\n",
      "Collecting pyerfa>=2.0\n",
      "  Downloading pyerfa-2.0.0.1-cp38-cp38-manylinux_2_5_x86_64.manylinux1_x86_64.manylinux_2_12_x86_64.manylinux2010_x86_64.whl (775 kB)\n",
      "\u001b[K     |████████████████████████████████| 775 kB 46.8 MB/s eta 0:00:01\n",
      "\u001b[?25hRequirement already satisfied: packaging>=19.0 in /opt/conda/lib/python3.8/site-packages (from astropy->-r /home/jovyan/datahub/Reliance/Environments/ingv_reqs.txt (line 1)) (20.9)\n",
      "Requirement already satisfied: pyparsing>=2.0.2 in /opt/conda/lib/python3.8/site-packages (from packaging>=19.0->astropy->-r /home/jovyan/datahub/Reliance/Environments/ingv_reqs.txt (line 1)) (2.4.7)\n",
      "Requirement already satisfied: pyproj>=2.2 in /opt/conda/lib/python3.8/site-packages (from rioxarray->-r /home/jovyan/datahub/Reliance/Environments/ingv_reqs.txt (line 2)) (3.2.1)\n",
      "Requirement already satisfied: rasterio in /opt/conda/lib/python3.8/site-packages (from rioxarray->-r /home/jovyan/datahub/Reliance/Environments/ingv_reqs.txt (line 2)) (1.2.8)\n",
      "Requirement already satisfied: xarray>=0.17 in /opt/conda/lib/python3.8/site-packages (from rioxarray->-r /home/jovyan/datahub/Reliance/Environments/ingv_reqs.txt (line 2)) (0.19.0)\n",
      "Requirement already satisfied: certifi in /opt/conda/lib/python3.8/site-packages (from pyproj>=2.2->rioxarray->-r /home/jovyan/datahub/Reliance/Environments/ingv_reqs.txt (line 2)) (2021.10.8)\n",
      "Requirement already satisfied: setuptools>=40.4 in /opt/conda/lib/python3.8/site-packages (from xarray>=0.17->rioxarray->-r /home/jovyan/datahub/Reliance/Environments/ingv_reqs.txt (line 2)) (49.6.0.post20210108)\n",
      "Requirement already satisfied: pandas>=1.0 in /opt/conda/lib/python3.8/site-packages (from xarray>=0.17->rioxarray->-r /home/jovyan/datahub/Reliance/Environments/ingv_reqs.txt (line 2)) (1.2.4)\n",
      "Requirement already satisfied: python-dateutil>=2.7.3 in /opt/conda/lib/python3.8/site-packages (from pandas>=1.0->xarray>=0.17->rioxarray->-r /home/jovyan/datahub/Reliance/Environments/ingv_reqs.txt (line 2)) (2.8.1)\n",
      "Requirement already satisfied: pytz>=2017.3 in /opt/conda/lib/python3.8/site-packages (from pandas>=1.0->xarray>=0.17->rioxarray->-r /home/jovyan/datahub/Reliance/Environments/ingv_reqs.txt (line 2)) (2021.1)\n",
      "Requirement already satisfied: six>=1.5 in /opt/conda/lib/python3.8/site-packages (from python-dateutil>=2.7.3->pandas>=1.0->xarray>=0.17->rioxarray->-r /home/jovyan/datahub/Reliance/Environments/ingv_reqs.txt (line 2)) (1.15.0)\n",
      "Requirement already satisfied: matplotlib>=2.1 in /opt/conda/lib/python3.8/site-packages (from corner->-r /home/jovyan/datahub/Reliance/Environments/ingv_reqs.txt (line 3)) (3.4.3)\n",
      "Requirement already satisfied: pillow>=6.2.0 in /opt/conda/lib/python3.8/site-packages (from matplotlib>=2.1->corner->-r /home/jovyan/datahub/Reliance/Environments/ingv_reqs.txt (line 3)) (8.1.2)\n",
      "Requirement already satisfied: kiwisolver>=1.0.1 in /opt/conda/lib/python3.8/site-packages (from matplotlib>=2.1->corner->-r /home/jovyan/datahub/Reliance/Environments/ingv_reqs.txt (line 3)) (1.3.1)\n",
      "Requirement already satisfied: cycler>=0.10 in /opt/conda/lib/python3.8/site-packages (from matplotlib>=2.1->corner->-r /home/jovyan/datahub/Reliance/Environments/ingv_reqs.txt (line 3)) (0.10.0)\n",
      "Requirement already satisfied: requests in /opt/conda/lib/python3.8/site-packages (from rohub->-r /home/jovyan/datahub/Reliance/Environments/ingv_reqs.txt (line 5)) (2.25.1)\n",
      "Requirement already satisfied: imageio in /opt/conda/lib/python3.8/site-packages (from adamapi->-r /home/jovyan/datahub/Reliance/Environments/ingv_reqs.txt (line 6)) (2.9.0)\n",
      "Requirement already satisfied: idna<3,>=2.5 in /opt/conda/lib/python3.8/site-packages (from requests->rohub->-r /home/jovyan/datahub/Reliance/Environments/ingv_reqs.txt (line 5)) (2.10)\n",
      "Requirement already satisfied: chardet<5,>=3.0.2 in /opt/conda/lib/python3.8/site-packages (from requests->rohub->-r /home/jovyan/datahub/Reliance/Environments/ingv_reqs.txt (line 5)) (4.0.0)\n",
      "Requirement already satisfied: urllib3<1.27,>=1.21.1 in /opt/conda/lib/python3.8/site-packages (from requests->rohub->-r /home/jovyan/datahub/Reliance/Environments/ingv_reqs.txt (line 5)) (1.26.4)\n",
      "Requirement already satisfied: attrs in /opt/conda/lib/python3.8/site-packages (from rasterio->rioxarray->-r /home/jovyan/datahub/Reliance/Environments/ingv_reqs.txt (line 2)) (20.3.0)\n",
      "Requirement already satisfied: click>=4.0 in /opt/conda/lib/python3.8/site-packages (from rasterio->rioxarray->-r /home/jovyan/datahub/Reliance/Environments/ingv_reqs.txt (line 2)) (7.1.2)\n",
      "Requirement already satisfied: click-plugins in /opt/conda/lib/python3.8/site-packages (from rasterio->rioxarray->-r /home/jovyan/datahub/Reliance/Environments/ingv_reqs.txt (line 2)) (1.1.1)\n",
      "Requirement already satisfied: cligj>=0.5 in /opt/conda/lib/python3.8/site-packages (from rasterio->rioxarray->-r /home/jovyan/datahub/Reliance/Environments/ingv_reqs.txt (line 2)) (0.7.2)\n",
      "Requirement already satisfied: snuggs>=1.4.1 in /opt/conda/lib/python3.8/site-packages (from rasterio->rioxarray->-r /home/jovyan/datahub/Reliance/Environments/ingv_reqs.txt (line 2)) (1.4.7)\n",
      "Requirement already satisfied: affine in /opt/conda/lib/python3.8/site-packages (from rasterio->rioxarray->-r /home/jovyan/datahub/Reliance/Environments/ingv_reqs.txt (line 2)) (2.3.0)\n",
      "Building wheels for collected packages: rioxarray, rohub\n",
      "  Building wheel for rioxarray (PEP 517) ... \u001b[?25ldone\n",
      "\u001b[?25h  Created wheel for rioxarray: filename=rioxarray-0.9.1-py3-none-any.whl size=54611 sha256=8720e5f5c25dd4e305c464306dbce20f1ec53bf31ee3b004beaf52eb4404b181\n",
      "  Stored in directory: /home/jovyan/.cache/pip/wheels/af/dd/21/0e079cad4cf2b35cd56a263fdf8019b6c0702f0d129065b055\n",
      "  Building wheel for rohub (PEP 517) ... \u001b[?25ldone\n",
      "\u001b[?25h  Created wheel for rohub: filename=rohub-1.0.3-py3-none-any.whl size=38527 sha256=bb204a5c46933dbe07e2f46e45b2343ca80e10343916cb961afc0a28978b645a\n",
      "  Stored in directory: /home/jovyan/.cache/pip/wheels/3d/f3/d7/82da4943d8935573f357f8fe91ba4d9697a48c98f78f8ab47e\n",
      "Successfully built rioxarray rohub\n",
      "Installing collected packages: pyerfa, rohub, rioxarray, emcee, corner, astropy, adamapi\n",
      "Successfully installed adamapi-2.0.11 astropy-5.0.1 corner-2.2.1 emcee-3.1.1 pyerfa-2.0.0.1 rioxarray-0.9.1 rohub-1.0.3\n"
     ]
    }
   ],
   "source": [
    "import sys\n",
    "!{sys.executable} -m pip install -r /home/jovyan/datahub/Reliance/Environments/ingv_reqs.txt\n"
   ]
  },
  {
   "cell_type": "code",
   "execution_count": 2,
   "id": "ecb5e715-13bd-4965-9c6d-24c0f3826ab3",
   "metadata": {},
   "outputs": [],
   "source": [
    "import rohub"
   ]
  },
  {
   "cell_type": "code",
   "execution_count": 3,
   "id": "59f1a007-f2bf-4192-9852-a52565e5a270",
   "metadata": {},
   "outputs": [
    {
     "data": {
      "text/plain": [
       "'You are currently using package v1.0.3.'"
      ]
     },
     "execution_count": 3,
     "metadata": {},
     "output_type": "execute_result"
    }
   ],
   "source": [
    "rohub.version()"
   ]
  },
  {
   "cell_type": "code",
   "execution_count": null,
   "id": "3601917f-20f6-437a-b3ed-beb18848b5a0",
   "metadata": {},
   "outputs": [],
   "source": []
  }
 ],
 "metadata": {
  "kernelspec": {
   "display_name": "Python 3",
   "language": "python",
   "name": "python3"
  },
  "language_info": {
   "codemirror_mode": {
    "name": "ipython",
    "version": 3
   },
   "file_extension": ".py",
   "mimetype": "text/x-python",
   "name": "python",
   "nbconvert_exporter": "python",
   "pygments_lexer": "ipython3",
   "version": "3.8.8"
  }
 },
 "nbformat": 4,
 "nbformat_minor": 5
}
