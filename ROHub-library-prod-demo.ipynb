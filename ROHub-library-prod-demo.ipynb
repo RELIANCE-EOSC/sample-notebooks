{
 "cells": [
  {
   "cell_type": "markdown",
   "id": "47c3f55b-9d3b-498f-8e27-f5284dfe5062",
   "metadata": {},
   "source": [
    "## Install library if not present"
   ]
  },
  {
   "cell_type": "code",
   "execution_count": 1,
   "id": "83a559a6-0db5-4a46-847d-ec3aad15890d",
   "metadata": {},
   "outputs": [
    {
     "name": "stdout",
     "output_type": "stream",
     "text": [
      "Found existing installation: rohub 1.0.2\n",
      "Uninstalling rohub-1.0.2:\n",
      "  Successfully uninstalled rohub-1.0.2\n",
      "Note: you may need to restart the kernel to use updated packages.\n"
     ]
    }
   ],
   "source": [
    "pip uninstall -y rohub"
   ]
  },
  {
   "cell_type": "code",
   "execution_count": 3,
   "id": "c173b019-6119-42c0-9f3d-58ea2623cd91",
   "metadata": {},
   "outputs": [
    {
     "name": "stdout",
     "output_type": "stream",
     "text": [
      "Collecting rohub\n",
      "  Using cached rohub-1.0.3-py3-none-any.whl\n",
      "Requirement already satisfied: pandas in /opt/conda/lib/python3.8/site-packages (from rohub) (1.2.4)\n",
      "Requirement already satisfied: requests in /opt/conda/lib/python3.8/site-packages (from rohub) (2.25.1)\n",
      "Requirement already satisfied: python-dateutil>=2.7.3 in /opt/conda/lib/python3.8/site-packages (from pandas->rohub) (2.8.1)\n",
      "Requirement already satisfied: pytz>=2017.3 in /opt/conda/lib/python3.8/site-packages (from pandas->rohub) (2021.1)\n",
      "Requirement already satisfied: numpy>=1.16.5 in /opt/conda/lib/python3.8/site-packages (from pandas->rohub) (1.19.5)\n",
      "Requirement already satisfied: six>=1.5 in /opt/conda/lib/python3.8/site-packages (from python-dateutil>=2.7.3->pandas->rohub) (1.15.0)\n",
      "Requirement already satisfied: certifi>=2017.4.17 in /opt/conda/lib/python3.8/site-packages (from requests->rohub) (2021.10.8)\n",
      "Requirement already satisfied: chardet<5,>=3.0.2 in /opt/conda/lib/python3.8/site-packages (from requests->rohub) (4.0.0)\n",
      "Requirement already satisfied: idna<3,>=2.5 in /opt/conda/lib/python3.8/site-packages (from requests->rohub) (2.10)\n",
      "Requirement already satisfied: urllib3<1.27,>=1.21.1 in /opt/conda/lib/python3.8/site-packages (from requests->rohub) (1.26.4)\n",
      "Installing collected packages: rohub\n",
      "Successfully installed rohub-1.0.3\n",
      "Note: you may need to restart the kernel to use updated packages.\n"
     ]
    }
   ],
   "source": [
    "pip install rohub"
   ]
  },
  {
   "cell_type": "markdown",
   "id": "aba5dfa9-e883-4e72-b075-019dec8f5414",
   "metadata": {},
   "source": [
    "## Import library"
   ]
  },
  {
   "cell_type": "code",
   "execution_count": 4,
   "id": "8c6dfaad-cbf1-49be-8b2e-786e18c2e701",
   "metadata": {},
   "outputs": [],
   "source": [
    "import rohub"
   ]
  },
  {
   "cell_type": "markdown",
   "id": "850de275-7c4b-413b-ad02-eefd95921fcb",
   "metadata": {},
   "source": [
    "## Display library version"
   ]
  },
  {
   "cell_type": "code",
   "execution_count": 5,
   "id": "50580719-e288-4679-8ad7-ad5cad671dac",
   "metadata": {},
   "outputs": [
    {
     "data": {
      "text/plain": [
       "'You are currently using package v1.0.3.'"
      ]
     },
     "execution_count": 5,
     "metadata": {},
     "output_type": "execute_result"
    }
   ],
   "source": [
    "rohub.version()"
   ]
  },
  {
   "cell_type": "markdown",
   "id": "6098e656-4d19-4d95-93ff-eca550195d05",
   "metadata": {},
   "source": [
    "## Authenticate"
   ]
  },
  {
   "cell_type": "code",
   "execution_count": 6,
   "id": "095bc66a-07be-41bf-98ec-0e5004e63c19",
   "metadata": {},
   "outputs": [
    {
     "name": "stdout",
     "output_type": "stream",
     "text": [
      "Logged successfully as rpalma@man.poznan.pl.\n"
     ]
    }
   ],
   "source": [
    "rohub_user = open(\"/home/jovyan/files/rohub-user\").read().rstrip()\n",
    "rohub_pwd = open(\"/home/jovyan/files/rohub-pwd\").read().rstrip()\n",
    "rohub.login(username=rohub_user, password=rohub_pwd)\n",
    "#rohub_client_id = open(\"/home/jovyan/files/rohub-client_id\").read().rstrip()\n",
    "#rohub_client_secret = open(\"/home/jovyan/files/rohub-client_secret\").read().rstrip()\n",
    "#rohub.login(client_id=rohub_client_id, client_secret=rohub_client_secret)"
   ]
  },
  {
   "cell_type": "markdown",
   "id": "cb16c854-08c1-4c68-95f7-28f7a5b88dba",
   "metadata": {},
   "source": [
    "### Show my user profile information "
   ]
  },
  {
   "cell_type": "code",
   "execution_count": 7,
   "id": "51fdeeeb-bb27-4fc0-b834-b8653d583127",
   "metadata": {},
   "outputs": [
    {
     "data": {
      "text/plain": [
       "True"
      ]
     },
     "execution_count": 7,
     "metadata": {},
     "output_type": "execute_result"
    }
   ],
   "source": [
    "rohub.utils.is_valid(token_type=\"access\")"
   ]
  },
  {
   "cell_type": "code",
   "execution_count": 8,
   "id": "4aef22fa-3da5-4c71-bc0d-3b82f108dbb5",
   "metadata": {},
   "outputs": [
    {
     "data": {
      "text/plain": [
       "{'identifier': '7ceae1f9-37e1-4d15-a9cb-a5ba62ceb4dd',\n",
       " 'username': 'rpalma@man.poznan.pl',\n",
       " 'first_name': 'Raul',\n",
       " 'last_name': 'Palma',\n",
       " 'email': 'rpalma@man.poznan.pl',\n",
       " 'salutation': 'Dr',\n",
       " 'affiliation': 'PSNC',\n",
       " 'description': 'Head of Data Analytic & Semantics Department',\n",
       " 'areas_of_interest': 'Earth Science, Agriculture',\n",
       " 'photo_url': None,\n",
       " 'facebook_profile': None,\n",
       " 'google_profile': None,\n",
       " 'linkedin_profile': None,\n",
       " 'b2share_token': True,\n",
       " 'zenodo_token': True,\n",
       " 'orcid_identifier': None,\n",
       " 'is_service': False,\n",
       " 'is_staff': True,\n",
       " 'is_active': True,\n",
       " 'roles': ['admin', 'access'],\n",
       " 'resource_storage': 'rohub_file_storage',\n",
       " 'b2drop_login': False,\n",
       " 'b2drop_secret': False,\n",
       " 'b2drop_storage_url': False,\n",
       " 'api_link': 'https://api.rohub.org/api/users/7ceae1f9-37e1-4d15-a9cb-a5ba62ceb4dd/'}"
      ]
     },
     "execution_count": 8,
     "metadata": {},
     "output_type": "execute_result"
    }
   ],
   "source": [
    "rohub.show_my_user_profile_details()"
   ]
  },
  {
   "cell_type": "markdown",
   "id": "cce19bd6-aa59-473e-9799-22b206aa8b96",
   "metadata": {},
   "source": [
    "## RO methods"
   ]
  },
  {
   "cell_type": "markdown",
   "id": "2ef46bd8-35d7-4564-9754-997df908c1d7",
   "metadata": {},
   "source": [
    "### Create new RO"
   ]
  },
  {
   "cell_type": "code",
   "execution_count": 9,
   "id": "e4951753-eace-4321-9884-f2e96e3ebe4d",
   "metadata": {},
   "outputs": [
    {
     "name": "stdout",
     "output_type": "stream",
     "text": [
      "Research Object was successfully created with id = 88374f34-bdb3-4449-97b3-8e0a8483aa66\n"
     ]
    }
   ],
   "source": [
    "ro_title=\"17th Feb - Copernicus Atmosphere Monitoring Service Data Cube Research Object\"\n",
    "ro_research_areas=[\"Earth sciences\"]\n",
    "ro_description=\"This Research Object demonstrate how to compute monthly map of PM10 over your country\"\n",
    "ro_ros_type=\"Data-centric Research Object\"\n",
    "\n",
    "ro = rohub.ros_create(title=ro_title, research_areas=ro_research_areas, description=ro_description, ros_type=ro_ros_type, use_template=True)\n"
   ]
  },
  {
   "cell_type": "markdown",
   "id": "8ded8f65-5e90-4245-a47e-0666bdcb3b74",
   "metadata": {},
   "source": [
    "### Find ROs"
   ]
  },
  {
   "cell_type": "code",
   "execution_count": 10,
   "id": "bcf0cf34-36a8-41a5-b289-0ee6c85daf5e",
   "metadata": {},
   "outputs": [
    {
     "data": {
      "text/html": [
       "<div>\n",
       "<style scoped>\n",
       "    .dataframe tbody tr th:only-of-type {\n",
       "        vertical-align: middle;\n",
       "    }\n",
       "\n",
       "    .dataframe tbody tr th {\n",
       "        vertical-align: top;\n",
       "    }\n",
       "\n",
       "    .dataframe thead th {\n",
       "        text-align: right;\n",
       "    }\n",
       "</style>\n",
       "<table border=\"1\" class=\"dataframe\">\n",
       "  <thead>\n",
       "    <tr style=\"text-align: right;\">\n",
       "      <th></th>\n",
       "      <th>identifier</th>\n",
       "      <th>title</th>\n",
       "      <th>description</th>\n",
       "      <th>type</th>\n",
       "      <th>research_areas</th>\n",
       "      <th>status</th>\n",
       "      <th>created_on</th>\n",
       "      <th>created_by</th>\n",
       "      <th>modified_on</th>\n",
       "      <th>access_mode</th>\n",
       "      <th>owner</th>\n",
       "      <th>creation_mode</th>\n",
       "      <th>shared_link</th>\n",
       "    </tr>\n",
       "  </thead>\n",
       "  <tbody>\n",
       "    <tr>\n",
       "      <th>0</th>\n",
       "      <td>88374f34-bdb3-4449-97b3-8e0a8483aa66</td>\n",
       "      <td>17th Feb - Copernicus Atmosphere Monitoring Se...</td>\n",
       "      <td>This Research Object demonstrate how to comput...</td>\n",
       "      <td>Data-centric Research Object</td>\n",
       "      <td>[Earth sciences]</td>\n",
       "      <td>LIVE</td>\n",
       "      <td>2022-02-17T14:58:39.070868+00:00</td>\n",
       "      <td>rpalma@man.poznan.pl</td>\n",
       "      <td>2022-02-17T14:58:39.913093+00:00</td>\n",
       "      <td>PUBLIC</td>\n",
       "      <td>rpalma@man.poznan.pl</td>\n",
       "      <td>MANUAL</td>\n",
       "      <td>https://w3id.org/ro-id/88374f34-bdb3-4449-97b3...</td>\n",
       "    </tr>\n",
       "    <tr>\n",
       "      <th>1</th>\n",
       "      <td>0423aa4d-8fe6-47c3-97a5-38f0fef60808</td>\n",
       "      <td>Effects of the COVID-19 pandemic on myocardial...</td>\n",
       "      <td>Purpose We assessed the effects of the COVID-1...</td>\n",
       "      <td>Bibliography-centric Research Object</td>\n",
       "      <td>[Medical science]</td>\n",
       "      <td>LIVE</td>\n",
       "      <td>2021-12-10T10:07:17.462613+00:00</td>\n",
       "      <td>service-account-generation-service</td>\n",
       "      <td>2022-02-15T06:25:19.574298+00:00</td>\n",
       "      <td>PUBLIC</td>\n",
       "      <td>service-account-generation-service</td>\n",
       "      <td>MANUAL</td>\n",
       "      <td>https://w3id.org/ro-id/0423aa4d-8fe6-47c3-97a5...</td>\n",
       "    </tr>\n",
       "    <tr>\n",
       "      <th>2</th>\n",
       "      <td>b42df712-bd99-44f6-822c-ef4e3825ca4a</td>\n",
       "      <td>Social contacts, epidemic spreading and health...</td>\n",
       "      <td>Lockdown and social distancing, as well as tes...</td>\n",
       "      <td>Bibliography-centric Research Object</td>\n",
       "      <td>[Biology, Mathematics]</td>\n",
       "      <td>LIVE</td>\n",
       "      <td>2021-12-10T10:00:09.455335+00:00</td>\n",
       "      <td>service-account-generation-service</td>\n",
       "      <td>2021-12-10T10:00:10.509208+00:00</td>\n",
       "      <td>PUBLIC</td>\n",
       "      <td>service-account-generation-service</td>\n",
       "      <td>MANUAL</td>\n",
       "      <td>https://w3id.org/ro-id/b42df712-bd99-44f6-822c...</td>\n",
       "    </tr>\n",
       "    <tr>\n",
       "      <th>3</th>\n",
       "      <td>5a0a6ad0-a912-48a1-9309-c6503d63931f</td>\n",
       "      <td>COVID-19 Infection Pandemic: From the Frontlin...</td>\n",
       "      <td>The infection caused by COVID-19 (i.e. corona ...</td>\n",
       "      <td>Bibliography-centric Research Object</td>\n",
       "      <td>[Medical science]</td>\n",
       "      <td>LIVE</td>\n",
       "      <td>2021-12-10T10:06:35.892700+00:00</td>\n",
       "      <td>service-account-generation-service</td>\n",
       "      <td>2021-12-10T10:06:36.416744+00:00</td>\n",
       "      <td>PUBLIC</td>\n",
       "      <td>service-account-generation-service</td>\n",
       "      <td>MANUAL</td>\n",
       "      <td>https://w3id.org/ro-id/5a0a6ad0-a912-48a1-9309...</td>\n",
       "    </tr>\n",
       "    <tr>\n",
       "      <th>4</th>\n",
       "      <td>052b3693-fd97-4b09-b853-d7db9701d81e</td>\n",
       "      <td>Anxiety and Gastrointestinal Symptoms Related ...</td>\n",
       "      <td>The first case of infection by SARS-CoV-2 (i.e...</td>\n",
       "      <td>Bibliography-centric Research Object</td>\n",
       "      <td>[Medical science]</td>\n",
       "      <td>LIVE</td>\n",
       "      <td>2021-12-10T10:00:16.155139+00:00</td>\n",
       "      <td>service-account-generation-service</td>\n",
       "      <td>2021-12-10T10:00:16.663289+00:00</td>\n",
       "      <td>PUBLIC</td>\n",
       "      <td>service-account-generation-service</td>\n",
       "      <td>MANUAL</td>\n",
       "      <td>https://w3id.org/ro-id/052b3693-fd97-4b09-b853...</td>\n",
       "    </tr>\n",
       "    <tr>\n",
       "      <th>5</th>\n",
       "      <td>bce36619-9ad0-4291-81e1-f1808b1a7afa</td>\n",
       "      <td>Tracing day-zero and forecasting the COVID-19 ...</td>\n",
       "      <td>Introduction Italy became the second epicenter...</td>\n",
       "      <td>Bibliography-centric Research Object</td>\n",
       "      <td>[Mathematics]</td>\n",
       "      <td>LIVE</td>\n",
       "      <td>2021-12-10T10:06:05.025294+00:00</td>\n",
       "      <td>service-account-generation-service</td>\n",
       "      <td>2021-12-10T10:06:05.664340+00:00</td>\n",
       "      <td>PUBLIC</td>\n",
       "      <td>service-account-generation-service</td>\n",
       "      <td>MANUAL</td>\n",
       "      <td>https://w3id.org/ro-id/bce36619-9ad0-4291-81e1...</td>\n",
       "    </tr>\n",
       "    <tr>\n",
       "      <th>6</th>\n",
       "      <td>b76feb76-9ae9-4bd7-9fd3-cac2809eea2a</td>\n",
       "      <td>Stromboli (Italy) multidisciplinary weekly rep...</td>\n",
       "      <td>This Research Object provides the weekly multi...</td>\n",
       "      <td>Bibliography-centric Research Object</td>\n",
       "      <td>[Earth sciences]</td>\n",
       "      <td>LIVE</td>\n",
       "      <td>2022-01-26T20:27:29.997892+00:00</td>\n",
       "      <td>service-account-generation-service</td>\n",
       "      <td>2022-01-26T22:29:43.508393+00:00</td>\n",
       "      <td>PUBLIC</td>\n",
       "      <td>service-account-generation-service</td>\n",
       "      <td>AUTOMATIC</td>\n",
       "      <td>https://w3id.org/ro-id/b76feb76-9ae9-4bd7-9fd3...</td>\n",
       "    </tr>\n",
       "    <tr>\n",
       "      <th>7</th>\n",
       "      <td>9250e4ac-9fe3-45a4-a6f5-dd04dfebc3bc</td>\n",
       "      <td>Stromboli (Italy) multidisciplinary weekly rep...</td>\n",
       "      <td>This Research Object provides the weekly multi...</td>\n",
       "      <td>Bibliography-centric Research Object</td>\n",
       "      <td>[Earth sciences]</td>\n",
       "      <td>LIVE</td>\n",
       "      <td>2022-01-26T21:24:34.659617+00:00</td>\n",
       "      <td>service-account-generation-service</td>\n",
       "      <td>2022-01-27T02:33:40.181023+00:00</td>\n",
       "      <td>PUBLIC</td>\n",
       "      <td>service-account-generation-service</td>\n",
       "      <td>AUTOMATIC</td>\n",
       "      <td>https://w3id.org/ro-id/9250e4ac-9fe3-45a4-a6f5...</td>\n",
       "    </tr>\n",
       "  </tbody>\n",
       "</table>\n",
       "</div>"
      ],
      "text/plain": [
       "                             identifier  \\\n",
       "0  88374f34-bdb3-4449-97b3-8e0a8483aa66   \n",
       "1  0423aa4d-8fe6-47c3-97a5-38f0fef60808   \n",
       "2  b42df712-bd99-44f6-822c-ef4e3825ca4a   \n",
       "3  5a0a6ad0-a912-48a1-9309-c6503d63931f   \n",
       "4  052b3693-fd97-4b09-b853-d7db9701d81e   \n",
       "5  bce36619-9ad0-4291-81e1-f1808b1a7afa   \n",
       "6  b76feb76-9ae9-4bd7-9fd3-cac2809eea2a   \n",
       "7  9250e4ac-9fe3-45a4-a6f5-dd04dfebc3bc   \n",
       "\n",
       "                                               title  \\\n",
       "0  17th Feb - Copernicus Atmosphere Monitoring Se...   \n",
       "1  Effects of the COVID-19 pandemic on myocardial...   \n",
       "2  Social contacts, epidemic spreading and health...   \n",
       "3  COVID-19 Infection Pandemic: From the Frontlin...   \n",
       "4  Anxiety and Gastrointestinal Symptoms Related ...   \n",
       "5  Tracing day-zero and forecasting the COVID-19 ...   \n",
       "6  Stromboli (Italy) multidisciplinary weekly rep...   \n",
       "7  Stromboli (Italy) multidisciplinary weekly rep...   \n",
       "\n",
       "                                         description  \\\n",
       "0  This Research Object demonstrate how to comput...   \n",
       "1  Purpose We assessed the effects of the COVID-1...   \n",
       "2  Lockdown and social distancing, as well as tes...   \n",
       "3  The infection caused by COVID-19 (i.e. corona ...   \n",
       "4  The first case of infection by SARS-CoV-2 (i.e...   \n",
       "5  Introduction Italy became the second epicenter...   \n",
       "6  This Research Object provides the weekly multi...   \n",
       "7  This Research Object provides the weekly multi...   \n",
       "\n",
       "                                   type          research_areas status  \\\n",
       "0          Data-centric Research Object        [Earth sciences]   LIVE   \n",
       "1  Bibliography-centric Research Object       [Medical science]   LIVE   \n",
       "2  Bibliography-centric Research Object  [Biology, Mathematics]   LIVE   \n",
       "3  Bibliography-centric Research Object       [Medical science]   LIVE   \n",
       "4  Bibliography-centric Research Object       [Medical science]   LIVE   \n",
       "5  Bibliography-centric Research Object           [Mathematics]   LIVE   \n",
       "6  Bibliography-centric Research Object        [Earth sciences]   LIVE   \n",
       "7  Bibliography-centric Research Object        [Earth sciences]   LIVE   \n",
       "\n",
       "                         created_on                          created_by  \\\n",
       "0  2022-02-17T14:58:39.070868+00:00                rpalma@man.poznan.pl   \n",
       "1  2021-12-10T10:07:17.462613+00:00  service-account-generation-service   \n",
       "2  2021-12-10T10:00:09.455335+00:00  service-account-generation-service   \n",
       "3  2021-12-10T10:06:35.892700+00:00  service-account-generation-service   \n",
       "4  2021-12-10T10:00:16.155139+00:00  service-account-generation-service   \n",
       "5  2021-12-10T10:06:05.025294+00:00  service-account-generation-service   \n",
       "6  2022-01-26T20:27:29.997892+00:00  service-account-generation-service   \n",
       "7  2022-01-26T21:24:34.659617+00:00  service-account-generation-service   \n",
       "\n",
       "                        modified_on access_mode  \\\n",
       "0  2022-02-17T14:58:39.913093+00:00      PUBLIC   \n",
       "1  2022-02-15T06:25:19.574298+00:00      PUBLIC   \n",
       "2  2021-12-10T10:00:10.509208+00:00      PUBLIC   \n",
       "3  2021-12-10T10:06:36.416744+00:00      PUBLIC   \n",
       "4  2021-12-10T10:00:16.663289+00:00      PUBLIC   \n",
       "5  2021-12-10T10:06:05.664340+00:00      PUBLIC   \n",
       "6  2022-01-26T22:29:43.508393+00:00      PUBLIC   \n",
       "7  2022-01-27T02:33:40.181023+00:00      PUBLIC   \n",
       "\n",
       "                                owner creation_mode  \\\n",
       "0                rpalma@man.poznan.pl        MANUAL   \n",
       "1  service-account-generation-service        MANUAL   \n",
       "2  service-account-generation-service        MANUAL   \n",
       "3  service-account-generation-service        MANUAL   \n",
       "4  service-account-generation-service        MANUAL   \n",
       "5  service-account-generation-service        MANUAL   \n",
       "6  service-account-generation-service     AUTOMATIC   \n",
       "7  service-account-generation-service     AUTOMATIC   \n",
       "\n",
       "                                         shared_link  \n",
       "0  https://w3id.org/ro-id/88374f34-bdb3-4449-97b3...  \n",
       "1  https://w3id.org/ro-id/0423aa4d-8fe6-47c3-97a5...  \n",
       "2  https://w3id.org/ro-id/b42df712-bd99-44f6-822c...  \n",
       "3  https://w3id.org/ro-id/5a0a6ad0-a912-48a1-9309...  \n",
       "4  https://w3id.org/ro-id/052b3693-fd97-4b09-b853...  \n",
       "5  https://w3id.org/ro-id/bce36619-9ad0-4291-81e1...  \n",
       "6  https://w3id.org/ro-id/b76feb76-9ae9-4bd7-9fd3...  \n",
       "7  https://w3id.org/ro-id/9250e4ac-9fe3-45a4-a6f5...  "
      ]
     },
     "execution_count": 10,
     "metadata": {},
     "output_type": "execute_result"
    }
   ],
   "source": [
    "rohub.ros_find(search=\"Feb\")"
   ]
  },
  {
   "cell_type": "markdown",
   "id": "e8744bec-3507-42f8-845c-40efdc5dff23",
   "metadata": {},
   "source": [
    "### List my ROs"
   ]
  },
  {
   "cell_type": "code",
   "execution_count": 7,
   "id": "26d00d22-6954-4aa5-a2e0-aaf5e3c8ddf2",
   "metadata": {},
   "outputs": [
    {
     "data": {
      "text/html": [
       "<div>\n",
       "<style scoped>\n",
       "    .dataframe tbody tr th:only-of-type {\n",
       "        vertical-align: middle;\n",
       "    }\n",
       "\n",
       "    .dataframe tbody tr th {\n",
       "        vertical-align: top;\n",
       "    }\n",
       "\n",
       "    .dataframe thead th {\n",
       "        text-align: right;\n",
       "    }\n",
       "</style>\n",
       "<table border=\"1\" class=\"dataframe\">\n",
       "  <thead>\n",
       "    <tr style=\"text-align: right;\">\n",
       "      <th></th>\n",
       "      <th>identifier</th>\n",
       "      <th>title</th>\n",
       "      <th>description</th>\n",
       "      <th>type</th>\n",
       "      <th>research_areas</th>\n",
       "      <th>status</th>\n",
       "      <th>created_on</th>\n",
       "      <th>created_by</th>\n",
       "      <th>modified_on</th>\n",
       "      <th>access_mode</th>\n",
       "      <th>owner</th>\n",
       "      <th>creation_mode</th>\n",
       "      <th>shared_link</th>\n",
       "    </tr>\n",
       "  </thead>\n",
       "  <tbody>\n",
       "    <tr>\n",
       "      <th>0</th>\n",
       "      <td>88374f34-bdb3-4449-97b3-8e0a8483aa66</td>\n",
       "      <td>17th Feb - Copernicus Atmosphere Monitoring Se...</td>\n",
       "      <td>This Research Object demonstrate how to comput...</td>\n",
       "      <td>Data-centric Research Object</td>\n",
       "      <td>[Earth sciences]</td>\n",
       "      <td>LIVE</td>\n",
       "      <td>2022-02-17T14:58:39.070868+00:00</td>\n",
       "      <td>rpalma@man.poznan.pl</td>\n",
       "      <td>2022-02-17T15:02:11.471555+00:00</td>\n",
       "      <td>PUBLIC</td>\n",
       "      <td>rpalma@man.poznan.pl</td>\n",
       "      <td>MANUAL</td>\n",
       "      <td>https://w3id.org/ro-id/88374f34-bdb3-4449-97b3...</td>\n",
       "    </tr>\n",
       "    <tr>\n",
       "      <th>1</th>\n",
       "      <td>6440c36b-44c8-48c5-9a2a-a3c47de70c8a</td>\n",
       "      <td>Copernicus Atmosphere Monitoring Service Data ...</td>\n",
       "      <td>This Research Object demonstrate how to comput...</td>\n",
       "      <td>Data-centric Research Object</td>\n",
       "      <td>[Earth sciences]</td>\n",
       "      <td>SNAPSHOT</td>\n",
       "      <td>2021-12-09T15:24:35.287031+00:00</td>\n",
       "      <td>rpalma@man.poznan.pl</td>\n",
       "      <td>2021-12-09T15:24:46.466543+00:00</td>\n",
       "      <td>PUBLIC</td>\n",
       "      <td>rpalma@man.poznan.pl</td>\n",
       "      <td>MANUAL</td>\n",
       "      <td>https://w3id.org/ro-id/6440c36b-44c8-48c5-9a2a...</td>\n",
       "    </tr>\n",
       "    <tr>\n",
       "      <th>2</th>\n",
       "      <td>57cf76e1-2179-4650-b48b-b5990dca86c1</td>\n",
       "      <td>Copernicus Atmosphere Monitoring Service Data ...</td>\n",
       "      <td>This Research Object demonstrate how to comput...</td>\n",
       "      <td>Data-centric Research Object</td>\n",
       "      <td>[Earth sciences]</td>\n",
       "      <td>SNAPSHOT</td>\n",
       "      <td>2021-12-09T15:20:19.561661+00:00</td>\n",
       "      <td>rpalma@man.poznan.pl</td>\n",
       "      <td>2021-12-09T15:20:30.133737+00:00</td>\n",
       "      <td>PUBLIC</td>\n",
       "      <td>rpalma@man.poznan.pl</td>\n",
       "      <td>MANUAL</td>\n",
       "      <td>https://w3id.org/ro-id/57cf76e1-2179-4650-b48b...</td>\n",
       "    </tr>\n",
       "    <tr>\n",
       "      <th>3</th>\n",
       "      <td>a08ddcb2-ae5f-40ba-b1b6-c64dd2e4d68c</td>\n",
       "      <td>Copernicus Atmosphere Monitoring Service Data ...</td>\n",
       "      <td>This Research Object demonstrate how to comput...</td>\n",
       "      <td>Data-centric Research Object</td>\n",
       "      <td>[Earth sciences]</td>\n",
       "      <td>SNAPSHOT</td>\n",
       "      <td>2021-12-09T15:19:07.190287+00:00</td>\n",
       "      <td>rpalma@man.poznan.pl</td>\n",
       "      <td>2021-12-09T15:19:24.584005+00:00</td>\n",
       "      <td>PUBLIC</td>\n",
       "      <td>rpalma@man.poznan.pl</td>\n",
       "      <td>MANUAL</td>\n",
       "      <td>https://w3id.org/ro-id/a08ddcb2-ae5f-40ba-b1b6...</td>\n",
       "    </tr>\n",
       "    <tr>\n",
       "      <th>4</th>\n",
       "      <td>c737f695-6715-4916-8bef-8fc0ce879760</td>\n",
       "      <td>Copernicus Atmosphere Monitoring Service Data ...</td>\n",
       "      <td>This Research Object demonstrate how to comput...</td>\n",
       "      <td>Data-centric Research Object</td>\n",
       "      <td>[Earth sciences]</td>\n",
       "      <td>SNAPSHOT</td>\n",
       "      <td>2021-12-08T22:04:42.703330+00:00</td>\n",
       "      <td>rpalma@man.poznan.pl</td>\n",
       "      <td>2021-12-08T22:05:13.391015+00:00</td>\n",
       "      <td>PUBLIC</td>\n",
       "      <td>rpalma@man.poznan.pl</td>\n",
       "      <td>MANUAL</td>\n",
       "      <td>https://w3id.org/ro-id/c737f695-6715-4916-8bef...</td>\n",
       "    </tr>\n",
       "    <tr>\n",
       "      <th>5</th>\n",
       "      <td>abebc0e7-87b6-4ed5-8a0e-9b71dc30e333</td>\n",
       "      <td>Copernicus Atmosphere Monitoring Service Data ...</td>\n",
       "      <td>This Research Object demonstrate how to comput...</td>\n",
       "      <td>Data-centric Research Object</td>\n",
       "      <td>[Earth sciences]</td>\n",
       "      <td>SNAPSHOT</td>\n",
       "      <td>2021-12-08T22:01:17.734019+00:00</td>\n",
       "      <td>rpalma@man.poznan.pl</td>\n",
       "      <td>2021-12-08T22:01:44.739807+00:00</td>\n",
       "      <td>PUBLIC</td>\n",
       "      <td>rpalma@man.poznan.pl</td>\n",
       "      <td>MANUAL</td>\n",
       "      <td>https://w3id.org/ro-id/abebc0e7-87b6-4ed5-8a0e...</td>\n",
       "    </tr>\n",
       "    <tr>\n",
       "      <th>6</th>\n",
       "      <td>7740459a-b9fc-411b-88af-763a0de9d9b1</td>\n",
       "      <td>9th November - Copernicus Atmosphere Monitorin...</td>\n",
       "      <td>This Research Object demonstrate how to comput...</td>\n",
       "      <td>Data-centric Research Object</td>\n",
       "      <td>[Earth sciences]</td>\n",
       "      <td>SNAPSHOT</td>\n",
       "      <td>2021-11-10T19:38:07.383377+00:00</td>\n",
       "      <td>rpalma@man.poznan.pl</td>\n",
       "      <td>2022-02-15T10:41:52.504383+00:00</td>\n",
       "      <td>PUBLIC</td>\n",
       "      <td>rpalma@man.poznan.pl</td>\n",
       "      <td>MANUAL</td>\n",
       "      <td>https://w3id.org/ro-id/7740459a-b9fc-411b-88af...</td>\n",
       "    </tr>\n",
       "    <tr>\n",
       "      <th>7</th>\n",
       "      <td>164e222b-0bdd-4638-93e7-010bad13d655</td>\n",
       "      <td>9th November - Copernicus Atmosphere Monitorin...</td>\n",
       "      <td>This Research Object demonstrate how to comput...</td>\n",
       "      <td>Data-centric Research Object</td>\n",
       "      <td>[Earth sciences]</td>\n",
       "      <td>SNAPSHOT</td>\n",
       "      <td>2021-11-09T16:38:44.811435+00:00</td>\n",
       "      <td>rpalma@man.poznan.pl</td>\n",
       "      <td>2021-11-09T16:38:51.453571+00:00</td>\n",
       "      <td>PUBLIC</td>\n",
       "      <td>rpalma@man.poznan.pl</td>\n",
       "      <td>MANUAL</td>\n",
       "      <td>https://w3id.org/ro-id/164e222b-0bdd-4638-93e7...</td>\n",
       "    </tr>\n",
       "    <tr>\n",
       "      <th>8</th>\n",
       "      <td>321e3b22-04a7-48f8-a647-7ebc49c19301</td>\n",
       "      <td>9th November - Copernicus Atmosphere Monitorin...</td>\n",
       "      <td>This Research Object demonstrate how to comput...</td>\n",
       "      <td>Data-centric Research Object</td>\n",
       "      <td>[Earth sciences]</td>\n",
       "      <td>SNAPSHOT</td>\n",
       "      <td>2021-11-09T16:23:26.759903+00:00</td>\n",
       "      <td>rpalma@man.poznan.pl</td>\n",
       "      <td>2022-02-15T10:43:30.014314+00:00</td>\n",
       "      <td>PUBLIC</td>\n",
       "      <td>rpalma@man.poznan.pl</td>\n",
       "      <td>MANUAL</td>\n",
       "      <td>https://w3id.org/ro-id/321e3b22-04a7-48f8-a647...</td>\n",
       "    </tr>\n",
       "    <tr>\n",
       "      <th>9</th>\n",
       "      <td>9e533d0d-b1de-4b0d-9dd8-14d136aacea5</td>\n",
       "      <td>Analysis of MOD_Aqua mass concentration chloro...</td>\n",
       "      <td>This Research Object aggregates the resources ...</td>\n",
       "      <td>Data-centric Research Object</td>\n",
       "      <td>[Earth sciences]</td>\n",
       "      <td>LIVE</td>\n",
       "      <td>2021-11-08T21:06:20.914340+00:00</td>\n",
       "      <td>rpalma@man.poznan.pl</td>\n",
       "      <td>2022-02-15T10:46:50.427014+00:00</td>\n",
       "      <td>PUBLIC</td>\n",
       "      <td>rpalma@man.poznan.pl</td>\n",
       "      <td>MANUAL</td>\n",
       "      <td>https://w3id.org/ro-id/9e533d0d-b1de-4b0d-9dd8...</td>\n",
       "    </tr>\n",
       "  </tbody>\n",
       "</table>\n",
       "</div>"
      ],
      "text/plain": [
       "                             identifier  \\\n",
       "0  88374f34-bdb3-4449-97b3-8e0a8483aa66   \n",
       "1  6440c36b-44c8-48c5-9a2a-a3c47de70c8a   \n",
       "2  57cf76e1-2179-4650-b48b-b5990dca86c1   \n",
       "3  a08ddcb2-ae5f-40ba-b1b6-c64dd2e4d68c   \n",
       "4  c737f695-6715-4916-8bef-8fc0ce879760   \n",
       "5  abebc0e7-87b6-4ed5-8a0e-9b71dc30e333   \n",
       "6  7740459a-b9fc-411b-88af-763a0de9d9b1   \n",
       "7  164e222b-0bdd-4638-93e7-010bad13d655   \n",
       "8  321e3b22-04a7-48f8-a647-7ebc49c19301   \n",
       "9  9e533d0d-b1de-4b0d-9dd8-14d136aacea5   \n",
       "\n",
       "                                               title  \\\n",
       "0  17th Feb - Copernicus Atmosphere Monitoring Se...   \n",
       "1  Copernicus Atmosphere Monitoring Service Data ...   \n",
       "2  Copernicus Atmosphere Monitoring Service Data ...   \n",
       "3  Copernicus Atmosphere Monitoring Service Data ...   \n",
       "4  Copernicus Atmosphere Monitoring Service Data ...   \n",
       "5  Copernicus Atmosphere Monitoring Service Data ...   \n",
       "6  9th November - Copernicus Atmosphere Monitorin...   \n",
       "7  9th November - Copernicus Atmosphere Monitorin...   \n",
       "8  9th November - Copernicus Atmosphere Monitorin...   \n",
       "9  Analysis of MOD_Aqua mass concentration chloro...   \n",
       "\n",
       "                                         description  \\\n",
       "0  This Research Object demonstrate how to comput...   \n",
       "1  This Research Object demonstrate how to comput...   \n",
       "2  This Research Object demonstrate how to comput...   \n",
       "3  This Research Object demonstrate how to comput...   \n",
       "4  This Research Object demonstrate how to comput...   \n",
       "5  This Research Object demonstrate how to comput...   \n",
       "6  This Research Object demonstrate how to comput...   \n",
       "7  This Research Object demonstrate how to comput...   \n",
       "8  This Research Object demonstrate how to comput...   \n",
       "9  This Research Object aggregates the resources ...   \n",
       "\n",
       "                           type    research_areas    status  \\\n",
       "0  Data-centric Research Object  [Earth sciences]      LIVE   \n",
       "1  Data-centric Research Object  [Earth sciences]  SNAPSHOT   \n",
       "2  Data-centric Research Object  [Earth sciences]  SNAPSHOT   \n",
       "3  Data-centric Research Object  [Earth sciences]  SNAPSHOT   \n",
       "4  Data-centric Research Object  [Earth sciences]  SNAPSHOT   \n",
       "5  Data-centric Research Object  [Earth sciences]  SNAPSHOT   \n",
       "6  Data-centric Research Object  [Earth sciences]  SNAPSHOT   \n",
       "7  Data-centric Research Object  [Earth sciences]  SNAPSHOT   \n",
       "8  Data-centric Research Object  [Earth sciences]  SNAPSHOT   \n",
       "9  Data-centric Research Object  [Earth sciences]      LIVE   \n",
       "\n",
       "                         created_on            created_by  \\\n",
       "0  2022-02-17T14:58:39.070868+00:00  rpalma@man.poznan.pl   \n",
       "1  2021-12-09T15:24:35.287031+00:00  rpalma@man.poznan.pl   \n",
       "2  2021-12-09T15:20:19.561661+00:00  rpalma@man.poznan.pl   \n",
       "3  2021-12-09T15:19:07.190287+00:00  rpalma@man.poznan.pl   \n",
       "4  2021-12-08T22:04:42.703330+00:00  rpalma@man.poznan.pl   \n",
       "5  2021-12-08T22:01:17.734019+00:00  rpalma@man.poznan.pl   \n",
       "6  2021-11-10T19:38:07.383377+00:00  rpalma@man.poznan.pl   \n",
       "7  2021-11-09T16:38:44.811435+00:00  rpalma@man.poznan.pl   \n",
       "8  2021-11-09T16:23:26.759903+00:00  rpalma@man.poznan.pl   \n",
       "9  2021-11-08T21:06:20.914340+00:00  rpalma@man.poznan.pl   \n",
       "\n",
       "                        modified_on access_mode                 owner  \\\n",
       "0  2022-02-17T15:02:11.471555+00:00      PUBLIC  rpalma@man.poznan.pl   \n",
       "1  2021-12-09T15:24:46.466543+00:00      PUBLIC  rpalma@man.poznan.pl   \n",
       "2  2021-12-09T15:20:30.133737+00:00      PUBLIC  rpalma@man.poznan.pl   \n",
       "3  2021-12-09T15:19:24.584005+00:00      PUBLIC  rpalma@man.poznan.pl   \n",
       "4  2021-12-08T22:05:13.391015+00:00      PUBLIC  rpalma@man.poznan.pl   \n",
       "5  2021-12-08T22:01:44.739807+00:00      PUBLIC  rpalma@man.poznan.pl   \n",
       "6  2022-02-15T10:41:52.504383+00:00      PUBLIC  rpalma@man.poznan.pl   \n",
       "7  2021-11-09T16:38:51.453571+00:00      PUBLIC  rpalma@man.poznan.pl   \n",
       "8  2022-02-15T10:43:30.014314+00:00      PUBLIC  rpalma@man.poznan.pl   \n",
       "9  2022-02-15T10:46:50.427014+00:00      PUBLIC  rpalma@man.poznan.pl   \n",
       "\n",
       "  creation_mode                                        shared_link  \n",
       "0        MANUAL  https://w3id.org/ro-id/88374f34-bdb3-4449-97b3...  \n",
       "1        MANUAL  https://w3id.org/ro-id/6440c36b-44c8-48c5-9a2a...  \n",
       "2        MANUAL  https://w3id.org/ro-id/57cf76e1-2179-4650-b48b...  \n",
       "3        MANUAL  https://w3id.org/ro-id/a08ddcb2-ae5f-40ba-b1b6...  \n",
       "4        MANUAL  https://w3id.org/ro-id/c737f695-6715-4916-8bef...  \n",
       "5        MANUAL  https://w3id.org/ro-id/abebc0e7-87b6-4ed5-8a0e...  \n",
       "6        MANUAL  https://w3id.org/ro-id/7740459a-b9fc-411b-88af...  \n",
       "7        MANUAL  https://w3id.org/ro-id/164e222b-0bdd-4638-93e7...  \n",
       "8        MANUAL  https://w3id.org/ro-id/321e3b22-04a7-48f8-a647...  \n",
       "9        MANUAL  https://w3id.org/ro-id/9e533d0d-b1de-4b0d-9dd8...  "
      ]
     },
     "execution_count": 7,
     "metadata": {},
     "output_type": "execute_result"
    }
   ],
   "source": [
    "myros=rohub.list_my_ros()\n",
    "myros[0:10]"
   ]
  },
  {
   "cell_type": "markdown",
   "id": "54eaa5c3-62f7-4ca9-83f4-e334e3b0c3be",
   "metadata": {},
   "source": [
    "### Load RO"
   ]
  },
  {
   "cell_type": "code",
   "execution_count": 8,
   "id": "5eeac8a1-89b5-4103-8a46-febc3221b36c",
   "metadata": {},
   "outputs": [
    {
     "name": "stdout",
     "output_type": "stream",
     "text": [
      "Research Object was successfully loaded with id = 88374f34-bdb3-4449-97b3-8e0a8483aa66\n"
     ]
    }
   ],
   "source": [
    "ro_id=myros.loc[0,\"identifier\"]\n",
    "ro=rohub.ros_load(identifier=ro_id)"
   ]
  },
  {
   "cell_type": "markdown",
   "id": "a0133b72-b2da-4b87-ac69-3e5e74bc3019",
   "metadata": {},
   "source": [
    "### Show basic metadata"
   ]
  },
  {
   "cell_type": "code",
   "execution_count": 14,
   "id": "4e19294e-d67e-4bd1-8d98-b049d045dc3f",
   "metadata": {},
   "outputs": [
    {
     "data": {
      "text/plain": [
       "{'identifier': '88374f34-bdb3-4449-97b3-8e0a8483aa66',\n",
       " 'shared_link': 'https://w3id.org/ro-id/88374f34-bdb3-4449-97b3-8e0a8483aa66',\n",
       " 'title': '17th Feb - Copernicus Atmosphere Monitoring Service Data Cube Research Object',\n",
       " 'description': 'This Research Object demonstrate how to compute monthly map of PM10 over your country',\n",
       " 'status': 'LIVE',\n",
       " 'access_mode': 'PUBLIC',\n",
       " 'type': 'Data-centric Research Object',\n",
       " 'template': 'Data Centric Research Object folders structure',\n",
       " 'created': '2022-02-17T14:58:39.070868Z',\n",
       " 'creator': 'rpalma@man.poznan.pl',\n",
       " 'modificator': None,\n",
       " 'modified': '2022-02-17T14:58:39.370001Z',\n",
       " 'importer': None,\n",
       " 'research_areas': ['Earth sciences'],\n",
       " 'owner': 'rpalma@man.poznan.pl',\n",
       " 'editors': [],\n",
       " 'readers': [],\n",
       " 'rating': '0.00',\n",
       " 'number_of_ratings': 0,\n",
       " 'number_of_likes': 0,\n",
       " 'number_of_dislikes': 0,\n",
       " 'quality': 0,\n",
       " 'size': 4094,\n",
       " 'creation_mode': 'MANUAL',\n",
       " 'doi': None,\n",
       " 'api_link': 'https://api.rohub.org/api/ros/88374f34-bdb3-4449-97b3-8e0a8483aa66/'}"
      ]
     },
     "execution_count": 14,
     "metadata": {},
     "output_type": "execute_result"
    }
   ],
   "source": [
    "ro.show_metadata()"
   ]
  },
  {
   "cell_type": "markdown",
   "id": "e77013ff-4998-41d4-abfb-61e7fc17e48f",
   "metadata": {},
   "source": [
    "### Add/modify basic metadata"
   ]
  },
  {
   "cell_type": "code",
   "execution_count": 15,
   "id": "4a89449c-31d7-4035-8acb-26bad4b98635",
   "metadata": {},
   "outputs": [
    {
     "data": {
      "text/plain": [
       "{'identifier': '88374f34-bdb3-4449-97b3-8e0a8483aa66',\n",
       " 'shared_link': 'https://w3id.org/ro-id/88374f34-bdb3-4449-97b3-8e0a8483aa66',\n",
       " 'title': '17th Feb - Copernicus Atmosphere Monitoring Service Data Cube Research Object',\n",
       " 'description': 'This Research Object demonstrate how to compute monthly map of PM10 over your country - modified',\n",
       " 'status': 'LIVE',\n",
       " 'access_mode': 'PUBLIC',\n",
       " 'type': 'Data-centric Research Object',\n",
       " 'template': 'Data Centric Research Object folders structure',\n",
       " 'created': '2022-02-17T14:58:39.070868Z',\n",
       " 'creator': 'rpalma@man.poznan.pl',\n",
       " 'modificator': 'rpalma@man.poznan.pl',\n",
       " 'modified': '2022-02-17T15:02:11.471555Z',\n",
       " 'importer': None,\n",
       " 'research_areas': ['Earth sciences'],\n",
       " 'owner': 'rpalma@man.poznan.pl',\n",
       " 'editors': ['annefou@geo.uio.no', 'dario.stelitano@ingv.it'],\n",
       " 'readers': [],\n",
       " 'rating': '0.00',\n",
       " 'number_of_ratings': 0,\n",
       " 'number_of_likes': 0,\n",
       " 'number_of_dislikes': 0,\n",
       " 'quality': 0,\n",
       " 'size': 4094,\n",
       " 'creation_mode': 'MANUAL',\n",
       " 'doi': None,\n",
       " 'api_link': 'https://api.rohub.org/api/ros/88374f34-bdb3-4449-97b3-8e0a8483aa66/'}"
      ]
     },
     "execution_count": 15,
     "metadata": {},
     "output_type": "execute_result"
    }
   ],
   "source": [
    "ro.description=\"This Research Object demonstrate how to compute monthly map of PM10 over your country - modified\"\n",
    "ro.editors=[\"annefou@geo.uio.no\", \"dario.stelitano@ingv.it\"]\n",
    "ro.update()\n"
   ]
  },
  {
   "cell_type": "markdown",
   "id": "51ecc869-28bd-4905-8260-d0498411d307",
   "metadata": {},
   "source": [
    "### Add RO Folder"
   ]
  },
  {
   "cell_type": "code",
   "execution_count": 20,
   "id": "9d91b865-430f-48ba-a104-60d88fa9145b",
   "metadata": {},
   "outputs": [
    {
     "data": {
      "text/plain": [
       "{'identifier': '76fce55f-20f1-4611-b056-af4997d6d6b2',\n",
       " 'shared_link': 'https://w3id.org/ro-id/88374f34-bdb3-4449-97b3-8e0a8483aa66/folders/76fce55f-20f1-4611-b056-af4997d6d6b2',\n",
       " 'name': 'mysubfolder',\n",
       " 'description': None,\n",
       " 'parent_folder': '6ae461ca-6c85-4fd3-b3eb-83e6b3adbb9e',\n",
       " 'ro': '88374f34-bdb3-4449-97b3-8e0a8483aa66',\n",
       " 'created': '2022-02-17T15:05:08.492282+0000',\n",
       " 'creator': 'rpalma@man.poznan.pl',\n",
       " 'modificator': None,\n",
       " 'modified': '2022-02-17T15:05:08.493205+0000',\n",
       " 'created_on': '2022-02-17T15:05:08.492282+0000',\n",
       " 'created_by': 'rpalma@man.poznan.pl',\n",
       " 'modified_on': '2022-02-17T15:05:08.493205+0000',\n",
       " 'modified_by': None,\n",
       " 'original_created_on': None,\n",
       " 'original_created_by': None,\n",
       " 'original_creator_name': None,\n",
       " 'authors_credits': ['rpalma@man.poznan.pl'],\n",
       " 'contributors_credits': [],\n",
       " 'path': 'data/mysubfolder',\n",
       " 'read_only': False,\n",
       " 'api_link': 'https://api.rohub.org/api/folders/76fce55f-20f1-4611-b056-af4997d6d6b2/'}"
      ]
     },
     "execution_count": 20,
     "metadata": {},
     "output_type": "execute_result"
    }
   ],
   "source": [
    "name=\"myFolder\"\n",
    "#ro.add_folders(name=\"myfolder\")\n",
    "ro.add_folders(name=\"mysubfolder\", parent_folder=\"data\")"
   ]
  },
  {
   "cell_type": "markdown",
   "id": "bb837091-e702-48f6-87bb-07a0943ca86e",
   "metadata": {},
   "source": [
    "### List RO Folders"
   ]
  },
  {
   "cell_type": "code",
   "execution_count": 21,
   "id": "b9457103-fe9f-4bba-8084-8f5339a7ab4c",
   "metadata": {},
   "outputs": [
    {
     "data": {
      "text/html": [
       "<div>\n",
       "<style scoped>\n",
       "    .dataframe tbody tr th:only-of-type {\n",
       "        vertical-align: middle;\n",
       "    }\n",
       "\n",
       "    .dataframe tbody tr th {\n",
       "        vertical-align: top;\n",
       "    }\n",
       "\n",
       "    .dataframe thead th {\n",
       "        text-align: right;\n",
       "    }\n",
       "</style>\n",
       "<table border=\"1\" class=\"dataframe\">\n",
       "  <thead>\n",
       "    <tr style=\"text-align: right;\">\n",
       "      <th></th>\n",
       "      <th>identifier</th>\n",
       "      <th>name</th>\n",
       "      <th>description</th>\n",
       "      <th>creator</th>\n",
       "      <th>created_on</th>\n",
       "      <th>modified_on</th>\n",
       "      <th>path</th>\n",
       "    </tr>\n",
       "  </thead>\n",
       "  <tbody>\n",
       "    <tr>\n",
       "      <th>0</th>\n",
       "      <td>4c2a984f-b665-48d3-be76-b63df4e84507</td>\n",
       "      <td>biblio</td>\n",
       "      <td>None</td>\n",
       "      <td>rpalma@man.poznan.pl</td>\n",
       "      <td>2022-02-17T14:58:40.321313+0000</td>\n",
       "      <td>2022-02-17T14:58:40.326210+0000</td>\n",
       "      <td>biblio</td>\n",
       "    </tr>\n",
       "    <tr>\n",
       "      <th>1</th>\n",
       "      <td>6ae461ca-6c85-4fd3-b3eb-83e6b3adbb9e</td>\n",
       "      <td>data</td>\n",
       "      <td>None</td>\n",
       "      <td>rpalma@man.poznan.pl</td>\n",
       "      <td>2022-02-17T14:58:40.322539+0000</td>\n",
       "      <td>2022-02-17T14:58:40.326550+0000</td>\n",
       "      <td>data</td>\n",
       "    </tr>\n",
       "    <tr>\n",
       "      <th>2</th>\n",
       "      <td>4a0e327b-3cf8-4655-8e32-decf262fc95b</td>\n",
       "      <td>metadata</td>\n",
       "      <td>None</td>\n",
       "      <td>rpalma@man.poznan.pl</td>\n",
       "      <td>2022-02-17T14:58:40.322946+0000</td>\n",
       "      <td>2022-02-17T14:58:40.326716+0000</td>\n",
       "      <td>metadata</td>\n",
       "    </tr>\n",
       "    <tr>\n",
       "      <th>3</th>\n",
       "      <td>d5705633-042c-4a00-870c-0ef4752a825d</td>\n",
       "      <td>myfolder</td>\n",
       "      <td>None</td>\n",
       "      <td>rpalma@man.poznan.pl</td>\n",
       "      <td>2022-02-17T15:04:23.328896+0000</td>\n",
       "      <td>2022-02-17T15:04:23.329690+0000</td>\n",
       "      <td>myfolder</td>\n",
       "    </tr>\n",
       "    <tr>\n",
       "      <th>4</th>\n",
       "      <td>76fce55f-20f1-4611-b056-af4997d6d6b2</td>\n",
       "      <td>mysubfolder</td>\n",
       "      <td>None</td>\n",
       "      <td>rpalma@man.poznan.pl</td>\n",
       "      <td>2022-02-17T15:05:08.492282+0000</td>\n",
       "      <td>2022-02-17T15:05:08.493205+0000</td>\n",
       "      <td>data/mysubfolder</td>\n",
       "    </tr>\n",
       "    <tr>\n",
       "      <th>5</th>\n",
       "      <td>df9fcbcb-bd32-4128-afa4-a475cea5a1b9</td>\n",
       "      <td>raw data</td>\n",
       "      <td>None</td>\n",
       "      <td>rpalma@man.poznan.pl</td>\n",
       "      <td>2022-02-17T14:58:40.323415+0000</td>\n",
       "      <td>2022-02-17T14:58:40.326852+0000</td>\n",
       "      <td>raw data</td>\n",
       "    </tr>\n",
       "  </tbody>\n",
       "</table>\n",
       "</div>"
      ],
      "text/plain": [
       "                             identifier         name description  \\\n",
       "0  4c2a984f-b665-48d3-be76-b63df4e84507       biblio        None   \n",
       "1  6ae461ca-6c85-4fd3-b3eb-83e6b3adbb9e         data        None   \n",
       "2  4a0e327b-3cf8-4655-8e32-decf262fc95b     metadata        None   \n",
       "3  d5705633-042c-4a00-870c-0ef4752a825d     myfolder        None   \n",
       "4  76fce55f-20f1-4611-b056-af4997d6d6b2  mysubfolder        None   \n",
       "5  df9fcbcb-bd32-4128-afa4-a475cea5a1b9     raw data        None   \n",
       "\n",
       "                creator                       created_on  \\\n",
       "0  rpalma@man.poznan.pl  2022-02-17T14:58:40.321313+0000   \n",
       "1  rpalma@man.poznan.pl  2022-02-17T14:58:40.322539+0000   \n",
       "2  rpalma@man.poznan.pl  2022-02-17T14:58:40.322946+0000   \n",
       "3  rpalma@man.poznan.pl  2022-02-17T15:04:23.328896+0000   \n",
       "4  rpalma@man.poznan.pl  2022-02-17T15:05:08.492282+0000   \n",
       "5  rpalma@man.poznan.pl  2022-02-17T14:58:40.323415+0000   \n",
       "\n",
       "                       modified_on              path  \n",
       "0  2022-02-17T14:58:40.326210+0000            biblio  \n",
       "1  2022-02-17T14:58:40.326550+0000              data  \n",
       "2  2022-02-17T14:58:40.326716+0000          metadata  \n",
       "3  2022-02-17T15:04:23.329690+0000          myfolder  \n",
       "4  2022-02-17T15:05:08.493205+0000  data/mysubfolder  \n",
       "5  2022-02-17T14:58:40.326852+0000          raw data  "
      ]
     },
     "execution_count": 21,
     "metadata": {},
     "output_type": "execute_result"
    }
   ],
   "source": [
    "myfolders = ro.list_folders()\n",
    "myfolders"
   ]
  },
  {
   "cell_type": "markdown",
   "id": "045fb58e-b5e6-497c-ac88-05a24c68fec5",
   "metadata": {
    "tags": []
   },
   "source": [
    "### Aggregate resource (internal)"
   ]
  },
  {
   "cell_type": "code",
   "execution_count": 22,
   "id": "6558c9e5-4cf2-4003-bf79-2c586f987deb",
   "metadata": {},
   "outputs": [
    {
     "name": "stdout",
     "output_type": "stream",
     "text": [
      "Resource was successfully created with id = 9044e8a8-76ab-45a9-92de-af5016a532d1\n"
     ]
    }
   ],
   "source": [
    "resi_res_type=\"Sketch\"\n",
    "resi_file_path=\"/home/jovyan/files/flow-dcro.png\"\n",
    "resi_title=\"Flow to compute monthly map\"\n",
    "resi_folder=\"data/mysubfolder\"\n",
    "\n",
    "my_res_int0=ro.add_internal_resource(res_type=resi_res_type,file_path=resi_file_path, title=resi_title, folder=resi_folder)\n"
   ]
  },
  {
   "cell_type": "markdown",
   "id": "131bfc83-b72a-4f3b-ba8d-874804b032d1",
   "metadata": {},
   "source": [
    "### Aggregate resouce (external)"
   ]
  },
  {
   "cell_type": "code",
   "execution_count": 25,
   "id": "190f391b-2162-437c-9c2b-e6536706a2a5",
   "metadata": {},
   "outputs": [
    {
     "name": "stdout",
     "output_type": "stream",
     "text": [
      "Resource was successfully created with id = 432b57c1-de4b-411e-b17e-524d15202a7a\n"
     ]
    },
    {
     "data": {
      "text/plain": [
       "Resource(identifier=432b57c1-de4b-411e-b17e-524d15202a7a, post_request=False)"
      ]
     },
     "execution_count": 25,
     "metadata": {},
     "output_type": "execute_result"
    }
   ],
   "source": [
    "rese_res_type=\"Data Cube Collection\"\n",
    "rese_input_url=\"https://reliance-das.adamplatform.eu/opensearch/datasets?datasetId=EU_CAMS_SURFACE_PM10_G\"\n",
    "rese_title=\"EU_CAMS_SURFACE_PM10_G\"\n",
    "rese_description=\"This dataset provides daily air quality analyses and forecasts for Europe.\\n\\nCAMS produces specific daily air quality analyses and forecasts for the European domain at significantly higher spatial resolution (0.1 degrees, approx. 10km) than is available from the global analyses and forecasts. The production is based on an ensemble of nine air quality forecasting systems across Europe. A median ensemble is calculated from individual outputs, since ensemble products yield on average better performance than the individual model products. The spread between the nine models are used to provide an estimate of the forecast uncertainty. The analysis combines model data with observations provided by the European Environment Agency (EEA) into a complete and consistent dataset using various data assimilation techniques depending upon the air-quality forecasting system used. In parallel, air quality forecasts are produced once a day for the next four days. Both the analysis and the forecast are available at hourly time steps at seven height levels.\\n\\nNote that only nitrogen monoxide, nitrogen dioxide, sulphur dioxide, ozone, PM2.5, PM10 and dust are regularly validated against in situ observations, and therefore forecasts of all other variables are unvalidated and should be considered experimental.\"\n",
    "\n",
    "ro.add_external_resource(res_type=rese_res_type, input_url=rese_input_url, title=rese_title, description= rese_description)\n"
   ]
  },
  {
   "cell_type": "code",
   "execution_count": 26,
   "id": "68e7d540-e90f-44f9-bab3-a4dbce9edc8f",
   "metadata": {},
   "outputs": [
    {
     "name": "stdout",
     "output_type": "stream",
     "text": [
      "Resource was successfully created with id = 7b5081dd-dfc6-4210-968e-a85177e40543\n"
     ]
    },
    {
     "data": {
      "text/plain": [
       "Resource(identifier=7b5081dd-dfc6-4210-968e-a85177e40543, post_request=False)"
      ]
     },
     "execution_count": 26,
     "metadata": {},
     "output_type": "execute_result"
    }
   ],
   "source": [
    "rese_res_type=\"Result\"\n",
    "rese_input_url=\"https://reliance-das.adamplatform.eu/wcs?service=WCS&Request=GetCoverage&CoverageID=EU_CAMS_SURFACE_PM10_G&subset=unix(2018-09-01,2018-09-01)&format=image/tiff\"\n",
    "rese_title=\"Daily PM10 concentration\"\n",
    "rese_description=\"Daily PM10 concentration for 1st September 2018 over Europe\"\n",
    "\n",
    "ro.add_external_resource(res_type=rese_res_type, input_url=rese_input_url, title=rese_title, description= rese_description)\n"
   ]
  },
  {
   "cell_type": "code",
   "execution_count": 27,
   "id": "8825af08-03e6-4ec5-951f-780cf8bcde05",
   "metadata": {},
   "outputs": [
    {
     "name": "stdout",
     "output_type": "stream",
     "text": [
      "Resource was successfully created with id = 9ea00a46-196c-4df6-b0d4-58d8b820c982\n"
     ]
    },
    {
     "data": {
      "text/plain": [
       "Resource(identifier=9ea00a46-196c-4df6-b0d4-58d8b820c982, post_request=False)"
      ]
     },
     "execution_count": 27,
     "metadata": {},
     "output_type": "execute_result"
    }
   ],
   "source": [
    "rese_res_type=\"Data Cube Product\"\n",
    "rese_input_url=\"https://reliance-das.adamplatform.eu/opensearch/search?datasetId=EU_CAMS_SURFACE_PM10_G&startDate=2018-09-01&endDate=2018-09-01\"\n",
    "rese_title=\"Index of daily PM10 concentration for September 1st 2018\"\n",
    "rese_description=\"List of hourly PM10 concentration data for September 1st 2018 over Europe\"\n",
    "\n",
    "ro.add_external_resource(res_type=rese_res_type, input_url=rese_input_url, title=rese_title, description=rese_description)\n"
   ]
  },
  {
   "cell_type": "code",
   "execution_count": 28,
   "id": "508a6835-a14e-48d2-884e-323efb26940d",
   "metadata": {},
   "outputs": [
    {
     "name": "stdout",
     "output_type": "stream",
     "text": [
      "Resource was successfully created with id = 4c5d6741-3fef-4bc1-a70f-8df549e15236\n"
     ]
    }
   ],
   "source": [
    "rese_res_type=\"Jupyter Notebook\"\n",
    "rese_input_url=\"https://zenodo.org/record/5554786#.YYlWo9nMI-Q\"\n",
    "rese_title=\"Jupter Notebook of CAMS European air quality analysis from Copernicus Atmosphere Monitoring with RELIANCE services\"\n",
    "rese_description=\"Jupyter Notebook for discovering, accessing and processing RELIANCE data cube, and creating a Research Object with results, and finally publish it in Zenodo\"\n",
    "\n",
    "my_res_ext0=ro.add_external_resource(res_type=rese_res_type, input_url=rese_input_url, title=rese_title, description=rese_description)\n"
   ]
  },
  {
   "cell_type": "code",
   "execution_count": 29,
   "id": "add75fa3-5d00-41b4-9c84-e037f8794ba1",
   "metadata": {},
   "outputs": [
    {
     "name": "stdout",
     "output_type": "stream",
     "text": [
      "Resource was successfully created with id = da8fc20e-8b97-4399-b832-37a9856c0195\n"
     ]
    }
   ],
   "source": [
    "rese_res_type=\"Dataset\"\n",
    "rese_input_url=\"https://box.psnc.pl/f/d90a0e1e0d/?raw=1\"\n",
    "rese_title=\"Catch data from Norway\"\n",
    "rese_description=\"Catch data records sample from 2019\"\n",
    "\n",
    "my_res_ext1=ro.add_external_resource(res_type=rese_res_type, input_url=rese_input_url, title=rese_title, description=rese_description)"
   ]
  },
  {
   "cell_type": "markdown",
   "id": "b828a23c-bc3d-4a56-bc5f-6a8ac38f7b19",
   "metadata": {},
   "source": [
    "### List RO resources"
   ]
  },
  {
   "cell_type": "code",
   "execution_count": 30,
   "id": "27cd8594-9579-4645-b6c9-968f9d2c37d3",
   "metadata": {},
   "outputs": [
    {
     "data": {
      "text/html": [
       "<div>\n",
       "<style scoped>\n",
       "    .dataframe tbody tr th:only-of-type {\n",
       "        vertical-align: middle;\n",
       "    }\n",
       "\n",
       "    .dataframe tbody tr th {\n",
       "        vertical-align: top;\n",
       "    }\n",
       "\n",
       "    .dataframe thead th {\n",
       "        text-align: right;\n",
       "    }\n",
       "</style>\n",
       "<table border=\"1\" class=\"dataframe\">\n",
       "  <thead>\n",
       "    <tr style=\"text-align: right;\">\n",
       "      <th></th>\n",
       "      <th>identifier</th>\n",
       "      <th>type</th>\n",
       "      <th>source</th>\n",
       "      <th>title</th>\n",
       "      <th>description</th>\n",
       "      <th>url</th>\n",
       "      <th>name</th>\n",
       "      <th>path</th>\n",
       "      <th>size</th>\n",
       "      <th>creator</th>\n",
       "      <th>created_on</th>\n",
       "      <th>modified_on</th>\n",
       "      <th>download_url</th>\n",
       "    </tr>\n",
       "  </thead>\n",
       "  <tbody>\n",
       "    <tr>\n",
       "      <th>0</th>\n",
       "      <td>432b57c1-de4b-411e-b17e-524d15202a7a</td>\n",
       "      <td>Data Cube Collection</td>\n",
       "      <td>external</td>\n",
       "      <td>EU_CAMS_SURFACE_PM10_G</td>\n",
       "      <td>This dataset provides daily air quality analys...</td>\n",
       "      <td>https://reliance-das.adamplatform.eu/opensearc...</td>\n",
       "      <td>EU_CAMS_SURFACE_PM10_G</td>\n",
       "      <td>https://reliance-das.adamplatform.eu/opensearc...</td>\n",
       "      <td>NaN</td>\n",
       "      <td>rpalma@man.poznan.pl</td>\n",
       "      <td>2022-02-17T15:21:26.221676+0000</td>\n",
       "      <td>2022-02-17T15:21:26.226548+0000</td>\n",
       "      <td>https://reliance-das.adamplatform.eu/opensearc...</td>\n",
       "    </tr>\n",
       "    <tr>\n",
       "      <th>1</th>\n",
       "      <td>9ea00a46-196c-4df6-b0d4-58d8b820c982</td>\n",
       "      <td>Data Cube Product</td>\n",
       "      <td>external</td>\n",
       "      <td>Index of daily PM10 concentration for Septembe...</td>\n",
       "      <td>List of hourly PM10 concentration data for Sep...</td>\n",
       "      <td>https://reliance-das.adamplatform.eu/opensearc...</td>\n",
       "      <td>Index of daily PM10 concentration for Septembe...</td>\n",
       "      <td>https://reliance-das.adamplatform.eu/opensearc...</td>\n",
       "      <td>NaN</td>\n",
       "      <td>rpalma@man.poznan.pl</td>\n",
       "      <td>2022-02-17T15:22:15.915421+0000</td>\n",
       "      <td>2022-02-17T15:22:15.917573+0000</td>\n",
       "      <td>https://reliance-das.adamplatform.eu/opensearc...</td>\n",
       "    </tr>\n",
       "    <tr>\n",
       "      <th>2</th>\n",
       "      <td>da8fc20e-8b97-4399-b832-37a9856c0195</td>\n",
       "      <td>Dataset</td>\n",
       "      <td>external</td>\n",
       "      <td>Catch data from Norway</td>\n",
       "      <td>Catch data records sample from 2019</td>\n",
       "      <td>https://box.psnc.pl/f/d90a0e1e0d/?raw=1</td>\n",
       "      <td>Catch data from Norway</td>\n",
       "      <td>https://box.psnc.pl/f/d90a0e1e0d/?raw=1</td>\n",
       "      <td>NaN</td>\n",
       "      <td>rpalma@man.poznan.pl</td>\n",
       "      <td>2022-02-17T15:22:47.629469+0000</td>\n",
       "      <td>2022-02-17T15:22:47.631124+0000</td>\n",
       "      <td>https://box.psnc.pl/f/d90a0e1e0d/?raw=1</td>\n",
       "    </tr>\n",
       "    <tr>\n",
       "      <th>3</th>\n",
       "      <td>4c5d6741-3fef-4bc1-a70f-8df549e15236</td>\n",
       "      <td>Jupyter Notebook</td>\n",
       "      <td>external</td>\n",
       "      <td>Jupter Notebook of CAMS European air quality a...</td>\n",
       "      <td>Jupyter Notebook for discovering, accessing an...</td>\n",
       "      <td>https://zenodo.org/record/5554786#.YYlWo9nMI-Q</td>\n",
       "      <td>Jupter Notebook of CAMS European air quality a...</td>\n",
       "      <td>https://zenodo.org/record/5554786#.YYlWo9nMI-Q</td>\n",
       "      <td>NaN</td>\n",
       "      <td>rpalma@man.poznan.pl</td>\n",
       "      <td>2022-02-17T15:22:30.059240+0000</td>\n",
       "      <td>2022-02-17T15:22:30.061178+0000</td>\n",
       "      <td>https://zenodo.org/record/5554786#.YYlWo9nMI-Q</td>\n",
       "    </tr>\n",
       "    <tr>\n",
       "      <th>4</th>\n",
       "      <td>7b5081dd-dfc6-4210-968e-a85177e40543</td>\n",
       "      <td>Result</td>\n",
       "      <td>external</td>\n",
       "      <td>Daily PM10 concentration</td>\n",
       "      <td>Daily PM10 concentration for 1st September 201...</td>\n",
       "      <td>https://reliance-das.adamplatform.eu/wcs?servi...</td>\n",
       "      <td>Daily PM10 concentration</td>\n",
       "      <td>https://reliance-das.adamplatform.eu/wcs?servi...</td>\n",
       "      <td>NaN</td>\n",
       "      <td>rpalma@man.poznan.pl</td>\n",
       "      <td>2022-02-17T15:22:03.118296+0000</td>\n",
       "      <td>2022-02-17T15:22:03.119476+0000</td>\n",
       "      <td>https://reliance-das.adamplatform.eu/wcs?servi...</td>\n",
       "    </tr>\n",
       "    <tr>\n",
       "      <th>5</th>\n",
       "      <td>9044e8a8-76ab-45a9-92de-af5016a532d1</td>\n",
       "      <td>Sketch</td>\n",
       "      <td>internal</td>\n",
       "      <td>Flow to compute monthly map</td>\n",
       "      <td>None</td>\n",
       "      <td>None</td>\n",
       "      <td>Flow to compute monthly map</td>\n",
       "      <td>data/mysubfolder/flow-dcro.png</td>\n",
       "      <td>73394.0</td>\n",
       "      <td>rpalma@man.poznan.pl</td>\n",
       "      <td>2022-02-17T15:19:04.098429+0000</td>\n",
       "      <td>2022-02-17T15:19:04.099529+0000</td>\n",
       "      <td>https://api.rohub.org/api/resources/9044e8a8-7...</td>\n",
       "    </tr>\n",
       "  </tbody>\n",
       "</table>\n",
       "</div>"
      ],
      "text/plain": [
       "                             identifier                  type    source  \\\n",
       "0  432b57c1-de4b-411e-b17e-524d15202a7a  Data Cube Collection  external   \n",
       "1  9ea00a46-196c-4df6-b0d4-58d8b820c982     Data Cube Product  external   \n",
       "2  da8fc20e-8b97-4399-b832-37a9856c0195               Dataset  external   \n",
       "3  4c5d6741-3fef-4bc1-a70f-8df549e15236      Jupyter Notebook  external   \n",
       "4  7b5081dd-dfc6-4210-968e-a85177e40543                Result  external   \n",
       "5  9044e8a8-76ab-45a9-92de-af5016a532d1                Sketch  internal   \n",
       "\n",
       "                                               title  \\\n",
       "0                             EU_CAMS_SURFACE_PM10_G   \n",
       "1  Index of daily PM10 concentration for Septembe...   \n",
       "2                             Catch data from Norway   \n",
       "3  Jupter Notebook of CAMS European air quality a...   \n",
       "4                           Daily PM10 concentration   \n",
       "5                        Flow to compute monthly map   \n",
       "\n",
       "                                         description  \\\n",
       "0  This dataset provides daily air quality analys...   \n",
       "1  List of hourly PM10 concentration data for Sep...   \n",
       "2                Catch data records sample from 2019   \n",
       "3  Jupyter Notebook for discovering, accessing an...   \n",
       "4  Daily PM10 concentration for 1st September 201...   \n",
       "5                                               None   \n",
       "\n",
       "                                                 url  \\\n",
       "0  https://reliance-das.adamplatform.eu/opensearc...   \n",
       "1  https://reliance-das.adamplatform.eu/opensearc...   \n",
       "2            https://box.psnc.pl/f/d90a0e1e0d/?raw=1   \n",
       "3     https://zenodo.org/record/5554786#.YYlWo9nMI-Q   \n",
       "4  https://reliance-das.adamplatform.eu/wcs?servi...   \n",
       "5                                               None   \n",
       "\n",
       "                                                name  \\\n",
       "0                             EU_CAMS_SURFACE_PM10_G   \n",
       "1  Index of daily PM10 concentration for Septembe...   \n",
       "2                             Catch data from Norway   \n",
       "3  Jupter Notebook of CAMS European air quality a...   \n",
       "4                           Daily PM10 concentration   \n",
       "5                        Flow to compute monthly map   \n",
       "\n",
       "                                                path     size  \\\n",
       "0  https://reliance-das.adamplatform.eu/opensearc...      NaN   \n",
       "1  https://reliance-das.adamplatform.eu/opensearc...      NaN   \n",
       "2            https://box.psnc.pl/f/d90a0e1e0d/?raw=1      NaN   \n",
       "3     https://zenodo.org/record/5554786#.YYlWo9nMI-Q      NaN   \n",
       "4  https://reliance-das.adamplatform.eu/wcs?servi...      NaN   \n",
       "5                     data/mysubfolder/flow-dcro.png  73394.0   \n",
       "\n",
       "                creator                       created_on  \\\n",
       "0  rpalma@man.poznan.pl  2022-02-17T15:21:26.221676+0000   \n",
       "1  rpalma@man.poznan.pl  2022-02-17T15:22:15.915421+0000   \n",
       "2  rpalma@man.poznan.pl  2022-02-17T15:22:47.629469+0000   \n",
       "3  rpalma@man.poznan.pl  2022-02-17T15:22:30.059240+0000   \n",
       "4  rpalma@man.poznan.pl  2022-02-17T15:22:03.118296+0000   \n",
       "5  rpalma@man.poznan.pl  2022-02-17T15:19:04.098429+0000   \n",
       "\n",
       "                       modified_on  \\\n",
       "0  2022-02-17T15:21:26.226548+0000   \n",
       "1  2022-02-17T15:22:15.917573+0000   \n",
       "2  2022-02-17T15:22:47.631124+0000   \n",
       "3  2022-02-17T15:22:30.061178+0000   \n",
       "4  2022-02-17T15:22:03.119476+0000   \n",
       "5  2022-02-17T15:19:04.099529+0000   \n",
       "\n",
       "                                        download_url  \n",
       "0  https://reliance-das.adamplatform.eu/opensearc...  \n",
       "1  https://reliance-das.adamplatform.eu/opensearc...  \n",
       "2            https://box.psnc.pl/f/d90a0e1e0d/?raw=1  \n",
       "3     https://zenodo.org/record/5554786#.YYlWo9nMI-Q  \n",
       "4  https://reliance-das.adamplatform.eu/wcs?servi...  \n",
       "5  https://api.rohub.org/api/resources/9044e8a8-7...  "
      ]
     },
     "execution_count": 30,
     "metadata": {},
     "output_type": "execute_result"
    }
   ],
   "source": [
    "ro.list_resources()"
   ]
  },
  {
   "cell_type": "markdown",
   "id": "7e7990c2-30a0-4022-bae9-242831e33a05",
   "metadata": {},
   "source": [
    "### Add geolocation"
   ]
  },
  {
   "cell_type": "code",
   "execution_count": 38,
   "id": "4632f91b-1461-491b-943f-ee319e59c8e0",
   "metadata": {},
   "outputs": [
    {
     "data": {
      "text/plain": [
       "{'identifier': '0675dd94-c052-4526-9e7f-3274e2a20d63',\n",
       " 'shared_link': 'https://w3id.org/ro-id/88374f34-bdb3-4449-97b3-8e0a8483aa66/annotations/0675dd94-c052-4526-9e7f-3274e2a20d63',\n",
       " 'name': 'annotations/0675dd94-c052-4526-9e7f-3274e2a20d63',\n",
       " 'filename': '.ro/annotations/0675dd94-c052-4526-9e7f-3274e2a20d63.ttl',\n",
       " 'relation': False,\n",
       " 'read_only': False,\n",
       " 'target': '88374f34-bdb3-4449-97b3-8e0a8483aa66',\n",
       " 'ro': '88374f34-bdb3-4449-97b3-8e0a8483aa66',\n",
       " 'resources': [],\n",
       " 'created': '2022-02-17T15:52:55.703177+0000',\n",
       " 'creator': 'rpalma@man.poznan.pl',\n",
       " 'modificator': None,\n",
       " 'modified': '2022-02-17T15:52:55.702841+0000',\n",
       " 'authors_credits': ['rpalma@man.poznan.pl'],\n",
       " 'contributors_credits': [],\n",
       " 'api_link': 'https://api.rohub.org/api/annotations/0675dd94-c052-4526-9e7f-3274e2a20d63/'}"
      ]
     },
     "execution_count": 38,
     "metadata": {},
     "output_type": "execute_result"
    }
   ],
   "source": [
    "# geojson example\n",
    "geojson_as_text_point_python = {\n",
    "    \"type\": \"FeatureCollection\",\n",
    "    \"features\": [{\n",
    "        \"type\": \"Feature\",\n",
    "        \"geometry\": {\n",
    "            \"type\": \"Point\",\n",
    "            \"coordinates\": [ -155.499, 19.661 ]\n",
    "        }\n",
    "    }]\n",
    "}\n",
    "\n",
    "# geojson-ld example\n",
    "geojsonld_as_text_point_python= {\n",
    "  \"@context\": {\n",
    "    \"geojson\": \"https://purl.org/geojson/vocab#\"\n",
    "  },\n",
    "  \"type\": \"Feature\",\n",
    "  \"geometry\": {\n",
    "    \"type\": \"Point\",\n",
    "    \"coordinates\": [ 38.0, 38.0 ]\n",
    "  }\n",
    "}\n",
    "\n",
    "ro.add_geolocation(body_specification_json=geojson_as_text_point_python)\n"
   ]
  },
  {
   "cell_type": "markdown",
   "id": "277a8ff7-5710-4001-94ca-0c85d365d2c0",
   "metadata": {},
   "source": [
    "#### sending geojson(-ld) file"
   ]
  },
  {
   "cell_type": "code",
   "execution_count": 39,
   "id": "58fc3bf9-d984-495d-93f2-e0e67cde7457",
   "metadata": {},
   "outputs": [
    {
     "data": {
      "text/plain": [
       "[{'identifier': 'a14e28c2-9990-45f1-a7f1-194103406268',\n",
       "  'shared_link': 'https://w3id.org/ro-id/88374f34-bdb3-4449-97b3-8e0a8483aa66/annotations/a14e28c2-9990-45f1-a7f1-194103406268',\n",
       "  'name': 'annotations/a14e28c2-9990-45f1-a7f1-194103406268',\n",
       "  'filename': '.ro/annotations/a14e28c2-9990-45f1-a7f1-194103406268.ttl',\n",
       "  'relation': False,\n",
       "  'read_only': False,\n",
       "  'target': '88374f34-bdb3-4449-97b3-8e0a8483aa66',\n",
       "  'ro': '88374f34-bdb3-4449-97b3-8e0a8483aa66',\n",
       "  'resources': [],\n",
       "  'created': '2022-02-17T16:02:41.002768+0000',\n",
       "  'creator': 'rpalma@man.poznan.pl',\n",
       "  'modificator': None,\n",
       "  'modified': '2022-02-17T16:02:41.002698+0000',\n",
       "  'authors_credits': ['rpalma@man.poznan.pl'],\n",
       "  'contributors_credits': [],\n",
       "  'api_link': 'https://api.rohub.org/api/annotations/a14e28c2-9990-45f1-a7f1-194103406268/'}]"
      ]
     },
     "execution_count": 39,
     "metadata": {},
     "output_type": "execute_result"
    }
   ],
   "source": [
    "# geojson-ld format\n",
    "#ro.add_geolocation(body_specification_json=\"/home/jovyan/ROHub-API/files/EuropeBOX.geojson\")\n",
    "#ro.add_geolocation(body_specification_json=\"/home/jovyan/files/fra.geo-ld.json\")\n",
    "#ro.add_geolocation(body_specification_json=\"/home/jovyan/files/geojson-test-simple_mp.json\")\n",
    "#ro.add_geolocation(body_specification_json=\"/home/jovyan/files/geojson-test.json\") \n",
    "\n",
    "# geojson format\n",
    "ro.add_geolocation(body_specification_json=\"/home/jovyan/files/fra.geo-anne.json\") \n",
    "\n",
    "#from geojson format to geojson-ld format\n",
    "#with open('/home/jovyan/files/fra.geo-anne.json', 'r+') as f:\n",
    "#    data = json.load(f)\n",
    "#    data['@context'] = { \"geojson\": \"https://purl.org/geojson/vocab#\" } \n",
    "#    f.seek(0)        \n",
    "#    json.dump(data, f, indent=None)\n",
    "#    f.truncate() \n",
    "#ro.add_geolocation(body_specification_json=\"/home/jovyan/files/fra.geo-anne.json\")"
   ]
  },
  {
   "cell_type": "markdown",
   "id": "bb390c3a-5081-44eb-a250-38dcfd45b99b",
   "metadata": {},
   "source": [
    "### Export to RO-crate"
   ]
  },
  {
   "cell_type": "code",
   "execution_count": 40,
   "id": "b5b35bb3-4281-4233-b5e3-74d0d9f96566",
   "metadata": {},
   "outputs": [
    {
     "name": "stdout",
     "output_type": "stream",
     "text": [
      "File was successfully downloaded.\n"
     ]
    }
   ],
   "source": [
    "#ro.export_to_rocrate(filename=\"my-ro-crate\")\n",
    "ro.export_to_rocrate(filename=\"my-ro-crate\", use_format=\"zip\")"
   ]
  },
  {
   "cell_type": "markdown",
   "id": "e36cbc05-dcb2-44d8-ae00-227e52e7ea9d",
   "metadata": {},
   "source": [
    "### Import existing RO from ZIP"
   ]
  },
  {
   "cell_type": "code",
   "execution_count": null,
   "id": "ecab23c7-48b7-4d68-9b87-e9d4d7dc2192",
   "metadata": {},
   "outputs": [],
   "source": [
    "rohub.ros_upload(path_to_zip=\"/home/jovyan/files/RSOBIA_Ad-1-fixed-final.zip\")"
   ]
  },
  {
   "cell_type": "markdown",
   "id": "30096e14-013f-4d32-93eb-ff9d50e00f31",
   "metadata": {},
   "source": [
    "### import RO-crate"
   ]
  },
  {
   "cell_type": "code",
   "execution_count": null,
   "id": "c3f159be-9890-4f10-ba94-d6aaa7f19e3c",
   "metadata": {},
   "outputs": [],
   "source": [
    "rohub.ros_upload(path_to_zip=\"/home/jovyan/files/RO_crate.zip\")"
   ]
  },
  {
   "cell_type": "markdown",
   "id": "ae98d39e-f3e5-43c5-bdd6-bd38f16e4eb6",
   "metadata": {},
   "source": [
    "## Add authors/contributors/publishers/copyrightHolders"
   ]
  },
  {
   "cell_type": "markdown",
   "id": "8718bc86-687f-4287-8ce8-508d4895caa0",
   "metadata": {},
   "source": [
    "### List users"
   ]
  },
  {
   "cell_type": "code",
   "execution_count": 10,
   "id": "276cccd8-5006-4031-a90e-a1d8088e824f",
   "metadata": {},
   "outputs": [
    {
     "data": {
      "text/html": [
       "<div>\n",
       "<style scoped>\n",
       "    .dataframe tbody tr th:only-of-type {\n",
       "        vertical-align: middle;\n",
       "    }\n",
       "\n",
       "    .dataframe tbody tr th {\n",
       "        vertical-align: top;\n",
       "    }\n",
       "\n",
       "    .dataframe thead th {\n",
       "        text-align: right;\n",
       "    }\n",
       "</style>\n",
       "<table border=\"1\" class=\"dataframe\">\n",
       "  <thead>\n",
       "    <tr style=\"text-align: right;\">\n",
       "      <th></th>\n",
       "      <th>identifier</th>\n",
       "      <th>username</th>\n",
       "      <th>display_name</th>\n",
       "      <th>affiliation</th>\n",
       "      <th>description</th>\n",
       "      <th>areas_of_interest</th>\n",
       "      <th>orcid_identifier</th>\n",
       "      <th>external</th>\n",
       "    </tr>\n",
       "  </thead>\n",
       "  <tbody>\n",
       "    <tr>\n",
       "      <th>0</th>\n",
       "      <td>fa053819-12f3-4a0b-bb4d-8d00e45ad34c</td>\n",
       "      <td>federica.foglini@ismar.cnr.it</td>\n",
       "      <td>Federica Foglini</td>\n",
       "      <td>None</td>\n",
       "      <td>None</td>\n",
       "      <td>None</td>\n",
       "      <td>None</td>\n",
       "      <td>False</td>\n",
       "    </tr>\n",
       "  </tbody>\n",
       "</table>\n",
       "</div>"
      ],
      "text/plain": [
       "                             identifier                       username  \\\n",
       "0  fa053819-12f3-4a0b-bb4d-8d00e45ad34c  federica.foglini@ismar.cnr.it   \n",
       "\n",
       "       display_name affiliation description areas_of_interest  \\\n",
       "0  Federica Foglini        None        None              None   \n",
       "\n",
       "  orcid_identifier  external  \n",
       "0             None     False  "
      ]
     },
     "execution_count": 10,
     "metadata": {},
     "output_type": "execute_result"
    }
   ],
   "source": [
    "usernames=rohub.users_find(search=\"Federica\")\n",
    "usernames"
   ]
  },
  {
   "cell_type": "code",
   "execution_count": 11,
   "id": "0f54ddb4-569e-4fa3-88fe-4aca1deb215a",
   "metadata": {},
   "outputs": [
    {
     "data": {
      "text/plain": [
       "'federica.foglini@ismar.cnr.it'"
      ]
     },
     "execution_count": 11,
     "metadata": {},
     "output_type": "execute_result"
    }
   ],
   "source": [
    "user_id_anne=usernames.loc[0,\"username\"]\n",
    "user_id_anne"
   ]
  },
  {
   "cell_type": "code",
   "execution_count": 12,
   "id": "e19548d2-2e01-4c35-b206-f06dacf45c36",
   "metadata": {},
   "outputs": [
    {
     "data": {
      "text/html": [
       "<div>\n",
       "<style scoped>\n",
       "    .dataframe tbody tr th:only-of-type {\n",
       "        vertical-align: middle;\n",
       "    }\n",
       "\n",
       "    .dataframe tbody tr th {\n",
       "        vertical-align: top;\n",
       "    }\n",
       "\n",
       "    .dataframe thead th {\n",
       "        text-align: right;\n",
       "    }\n",
       "</style>\n",
       "<table border=\"1\" class=\"dataframe\">\n",
       "  <thead>\n",
       "    <tr style=\"text-align: right;\">\n",
       "      <th></th>\n",
       "      <th>identifier</th>\n",
       "      <th>username</th>\n",
       "      <th>display_name</th>\n",
       "      <th>affiliation</th>\n",
       "      <th>orcid_identifier</th>\n",
       "      <th>external</th>\n",
       "    </tr>\n",
       "  </thead>\n",
       "  <tbody>\n",
       "    <tr>\n",
       "      <th>0</th>\n",
       "      <td>c62bf5a8-72ff-45e3-a92a-7ba9f5a06e0e</td>\n",
       "      <td>https://orcid.org/0000-0003-3784-6651</td>\n",
       "      <td>Nieves Pepito</td>\n",
       "      <td>UNO-Recoletos</td>\n",
       "      <td>0000-0003-3784-6651</td>\n",
       "      <td>True</td>\n",
       "    </tr>\n",
       "    <tr>\n",
       "      <th>1</th>\n",
       "      <td>0557d7d6-dafa-45b0-b2f6-714cee69c22d</td>\n",
       "      <td>rapnonexist_4@hotmail.com</td>\n",
       "      <td>Pepito Bato</td>\n",
       "      <td>PCSS</td>\n",
       "      <td>0000-0002-8316-3192</td>\n",
       "      <td>True</td>\n",
       "    </tr>\n",
       "  </tbody>\n",
       "</table>\n",
       "</div>"
      ],
      "text/plain": [
       "                             identifier  \\\n",
       "0  c62bf5a8-72ff-45e3-a92a-7ba9f5a06e0e   \n",
       "1  0557d7d6-dafa-45b0-b2f6-714cee69c22d   \n",
       "\n",
       "                                username   display_name    affiliation  \\\n",
       "0  https://orcid.org/0000-0003-3784-6651  Nieves Pepito  UNO-Recoletos   \n",
       "1              rapnonexist_4@hotmail.com    Pepito Bato           PCSS   \n",
       "\n",
       "      orcid_identifier  external  \n",
       "0  0000-0003-3784-6651      True  \n",
       "1  0000-0002-8316-3192      True  "
      ]
     },
     "execution_count": 15,
     "metadata": {},
     "output_type": "execute_result"
    }
   ],
   "source": [
    "usernames=rohub.users_find(search=\"Nieves\")\n",
    "usernames"
   ]
  },
  {
   "cell_type": "code",
   "execution_count": 13,
   "id": "ed0c0c04-2749-4bc8-827e-38aa68b01ad4",
   "metadata": {
    "tags": []
   },
   "outputs": [
    {
     "data": {
      "text/plain": [
       "'https://orcid.org/0000-0003-3784-6651'"
      ]
     },
     "execution_count": 13,
     "metadata": {},
     "output_type": "execute_result"
    }
   ],
   "source": [
    "user_id_nieves=usernames.loc[0,\"username\"]\n",
    "user_id_nieves"
   ]
  },
  {
   "cell_type": "markdown",
   "id": "5b8ab500-9601-415e-a2ae-fb76377ef91c",
   "metadata": {},
   "source": [
    "### Add authors/contributors"
   ]
  },
  {
   "cell_type": "code",
   "execution_count": 14,
   "id": "edcd56c6-7070-4f25-9a1e-1c5fcee45a73",
   "metadata": {},
   "outputs": [
    {
     "name": "stdout",
     "output_type": "stream",
     "text": [
      "Agent: federica.foglini@ismar.cnr.it recognized in the system.\n",
      "Agent: https://orcid.org/0000-0003-3784-6651 recognized in the system.\n"
     ]
    },
    {
     "data": {
      "text/plain": [
       "[{'identifier': 'fa053819-12f3-4a0b-bb4d-8d00e45ad34c',\n",
       "  'username': 'federica.foglini@ismar.cnr.it',\n",
       "  'name': 'federica.foglini@ismar.cnr.it',\n",
       "  'type': 'RohubUser',\n",
       "  'display_name': 'Federica Foglini'},\n",
       " {'identifier': 'c62bf5a8-72ff-45e3-a92a-7ba9f5a06e0e',\n",
       "  'username': 'https://orcid.org/0000-0003-3784-6651',\n",
       "  'name': 'https://orcid.org/0000-0003-3784-6651',\n",
       "  'type': 'ExternalUser',\n",
       "  'display_name': 'Nieves Pepito',\n",
       "  'orcid_identifier': '0000-0003-3784-6651',\n",
       "  'affiliation': 'UNO-Recoletos'}]"
      ]
     },
     "execution_count": 14,
     "metadata": {},
     "output_type": "execute_result"
    }
   ],
   "source": [
    "ro.set_authors(agents=[user_id_anne,user_id_nieves])\n",
    "#ro.set_authors(agents=[\"dontdoit@lochness.uk\"])"
   ]
  },
  {
   "cell_type": "code",
   "execution_count": 31,
   "id": "719a2333-eb18-4c7e-9885-0f1d766383a8",
   "metadata": {},
   "outputs": [
    {
     "data": {
      "text/html": [
       "<div>\n",
       "<style scoped>\n",
       "    .dataframe tbody tr th:only-of-type {\n",
       "        vertical-align: middle;\n",
       "    }\n",
       "\n",
       "    .dataframe tbody tr th {\n",
       "        vertical-align: top;\n",
       "    }\n",
       "\n",
       "    .dataframe thead th {\n",
       "        text-align: right;\n",
       "    }\n",
       "</style>\n",
       "<table border=\"1\" class=\"dataframe\">\n",
       "  <thead>\n",
       "    <tr style=\"text-align: right;\">\n",
       "      <th></th>\n",
       "      <th>identifier</th>\n",
       "      <th>username</th>\n",
       "      <th>display_name</th>\n",
       "      <th>affiliation</th>\n",
       "      <th>orcid_identifier</th>\n",
       "      <th>external</th>\n",
       "    </tr>\n",
       "  </thead>\n",
       "  <tbody>\n",
       "    <tr>\n",
       "      <th>0</th>\n",
       "      <td>c62bf5a8-72ff-45e3-a92a-7ba9f5a06e0e</td>\n",
       "      <td>https://orcid.org/0000-0003-3784-6651</td>\n",
       "      <td>Nieves Pepito</td>\n",
       "      <td>UNO-Recoletos</td>\n",
       "      <td>0000-0003-3784-6651</td>\n",
       "      <td>True</td>\n",
       "    </tr>\n",
       "    <tr>\n",
       "      <th>1</th>\n",
       "      <td>0557d7d6-dafa-45b0-b2f6-714cee69c22d</td>\n",
       "      <td>rapnonexist_4@hotmail.com</td>\n",
       "      <td>Pepito Bato</td>\n",
       "      <td>PCSS</td>\n",
       "      <td>0000-0002-8316-3192</td>\n",
       "      <td>True</td>\n",
       "    </tr>\n",
       "  </tbody>\n",
       "</table>\n",
       "</div>"
      ],
      "text/plain": [
       "                             identifier  \\\n",
       "0  c62bf5a8-72ff-45e3-a92a-7ba9f5a06e0e   \n",
       "1  0557d7d6-dafa-45b0-b2f6-714cee69c22d   \n",
       "\n",
       "                                username   display_name    affiliation  \\\n",
       "0  https://orcid.org/0000-0003-3784-6651  Nieves Pepito  UNO-Recoletos   \n",
       "1              rapnonexist_4@hotmail.com    Pepito Bato           PCSS   \n",
       "\n",
       "      orcid_identifier  external  \n",
       "0  0000-0003-3784-6651      True  \n",
       "1  0000-0002-8316-3192      True  "
      ]
     },
     "execution_count": 31,
     "metadata": {},
     "output_type": "execute_result"
    }
   ],
   "source": [
    "usernames=rohub.users_find(search=\"Pepito\")\n",
    "usernames"
   ]
  },
  {
   "cell_type": "code",
   "execution_count": 17,
   "id": "d48dc33e-ea2c-4765-a735-85640ce4f55d",
   "metadata": {},
   "outputs": [
    {
     "name": "stdout",
     "output_type": "stream",
     "text": [
      "Agent for: {'display_name': 'Pepito Baston', 'email': 'example5@hotmail.com', 'orcid_id': '0000-0002-8316-3195', 'affiliation': 'PCSS'} does not exist in the system, creating a new one based on the input data...\n",
      "User successfully created with internal id: 6bb3d079-5974-49cb-a759-ea25e68c7b4b!\n"
     ]
    },
    {
     "data": {
      "text/plain": [
       "[{'identifier': '6bb3d079-5974-49cb-a759-ea25e68c7b4b',\n",
       "  'username': 'https://orcid.org/0000-0002-8316-3195',\n",
       "  'name': 'https://orcid.org/0000-0002-8316-3195',\n",
       "  'type': 'ExternalUser',\n",
       "  'display_name': 'Pepito Baston',\n",
       "  'orcid_identifier': '0000-0002-8316-3195',\n",
       "  'affiliation': 'PCSS'}]"
      ]
     },
     "execution_count": 17,
     "metadata": {},
     "output_type": "execute_result"
    }
   ],
   "source": [
    "ro.set_contributors(agents=[{ \"display_name\": \"Pepito Baston\", \n",
    "                             \"email\":\"example5@hotmail.com\",\n",
    "                             \"orcid_id\":\"0000-0002-8316-3195\",\n",
    "                             \"affiliation\": \"PCSS\"}])\n"
   ]
  },
  {
   "cell_type": "markdown",
   "id": "d699e49e-fa94-4072-bf27-d7031b69a30f",
   "metadata": {},
   "source": [
    "### List organizations"
   ]
  },
  {
   "cell_type": "code",
   "execution_count": 25,
   "id": "ab8422f0-e3b0-47ea-b77f-02105cfc4a58",
   "metadata": {},
   "outputs": [
    {
     "data": {
      "text/html": [
       "<div>\n",
       "<style scoped>\n",
       "    .dataframe tbody tr th:only-of-type {\n",
       "        vertical-align: middle;\n",
       "    }\n",
       "\n",
       "    .dataframe tbody tr th {\n",
       "        vertical-align: top;\n",
       "    }\n",
       "\n",
       "    .dataframe thead th {\n",
       "        text-align: right;\n",
       "    }\n",
       "</style>\n",
       "<table border=\"1\" class=\"dataframe\">\n",
       "  <thead>\n",
       "    <tr style=\"text-align: right;\">\n",
       "      <th></th>\n",
       "      <th>identifier</th>\n",
       "      <th>organization_id</th>\n",
       "      <th>display_name</th>\n",
       "      <th>email</th>\n",
       "      <th>url</th>\n",
       "      <th>ror_identifier</th>\n",
       "    </tr>\n",
       "  </thead>\n",
       "  <tbody>\n",
       "    <tr>\n",
       "      <th>0</th>\n",
       "      <td>64ec5402-1171-42f6-b9dd-6fa901ca9724</td>\n",
       "      <td>https://ror.org/025cj6e44</td>\n",
       "      <td>Poznan Supercomputing and Networking Center</td>\n",
       "      <td>office@man.poznan.pl</td>\n",
       "      <td>https://www.psnc.pl/</td>\n",
       "      <td>025cj6e44</td>\n",
       "    </tr>\n",
       "  </tbody>\n",
       "</table>\n",
       "</div>"
      ],
      "text/plain": [
       "                             identifier            organization_id  \\\n",
       "0  64ec5402-1171-42f6-b9dd-6fa901ca9724  https://ror.org/025cj6e44   \n",
       "\n",
       "                                  display_name                 email  \\\n",
       "0  Poznan Supercomputing and Networking Center  office@man.poznan.pl   \n",
       "\n",
       "                    url ror_identifier  \n",
       "0  https://www.psnc.pl/      025cj6e44  "
      ]
     },
     "execution_count": 25,
     "metadata": {},
     "output_type": "execute_result"
    }
   ],
   "source": [
    "organizations=rohub.organizations_find(search=\"poznan\")\n",
    "organizations"
   ]
  },
  {
   "cell_type": "markdown",
   "id": "cffee19f-5c14-414a-a8d9-e2cf8524bd2c",
   "metadata": {},
   "source": [
    "### Add publisher/copyright holder"
   ]
  },
  {
   "cell_type": "code",
   "execution_count": 26,
   "id": "7352aa88-6a40-4b2d-be72-89eb990f38ca",
   "metadata": {},
   "outputs": [
    {
     "data": {
      "text/plain": [
       "'https://ror.org/025cj6e44'"
      ]
     },
     "execution_count": 26,
     "metadata": {},
     "output_type": "execute_result"
    }
   ],
   "source": [
    "organizations.loc[0,\"organization_id\"]"
   ]
  },
  {
   "cell_type": "code",
   "execution_count": 27,
   "id": "4bde648f-bcfd-463b-a2b5-bd683bf8b421",
   "metadata": {},
   "outputs": [
    {
     "name": "stdout",
     "output_type": "stream",
     "text": [
      "Agent: https://ror.org/025cj6e44 recognized in the system.\n"
     ]
    },
    {
     "data": {
      "text/plain": [
       "[{'identifier': '64ec5402-1171-42f6-b9dd-6fa901ca9724',\n",
       "  'username': 'https://ror.org/025cj6e44',\n",
       "  'name': 'https://ror.org/025cj6e44',\n",
       "  'type': 'Organization',\n",
       "  'display_name': 'Poznan Supercomputing and Networking Center'}]"
      ]
     },
     "execution_count": 27,
     "metadata": {},
     "output_type": "execute_result"
    }
   ],
   "source": [
    "ro.set_publishers(agents=[organizations.loc[0,\"organization_id\"]])"
   ]
  },
  {
   "cell_type": "code",
   "execution_count": 30,
   "id": "e202d803-bafb-4f7a-b2dc-18a7c7a1e1e9",
   "metadata": {},
   "outputs": [
    {
     "name": "stdout",
     "output_type": "stream",
     "text": [
      "Agent for: {'agent_type': 'organization', 'display_name': 'Example Org 3', 'email': 'neworg3@example.org', 'ror_identifier': 'abcd56789', 'organization_url': 'http://neworg3.example.org'} does not exist in the system, creating a new one based on the input data...\n",
      "Organization successfully created with internal id: 5835ec4b-1f51-4b3a-b4fc-924de28cb1d4!\n"
     ]
    },
    {
     "data": {
      "text/plain": [
       "[{'identifier': '5835ec4b-1f51-4b3a-b4fc-924de28cb1d4',\n",
       "  'username': 'https://ror.org/abcd56789',\n",
       "  'name': 'https://ror.org/abcd56789',\n",
       "  'type': 'Organization',\n",
       "  'display_name': 'Example Org 3'}]"
      ]
     },
     "execution_count": 30,
     "metadata": {},
     "output_type": "execute_result"
    }
   ],
   "source": [
    "ro.set_copyright_holders(agents=[{ \"agent_type\": \"organization\",\n",
    "                                  \"display_name\": \"Example Org 3\", \n",
    "                                  \"email\":\"neworg3@example.org\",\n",
    "                                  \"ror_identifier\":\"abcd56789\",\n",
    "                                  \"organization_url\": \"http://neworg3.example.org\"}])\n",
    "#ro.set_copyright_holders(agents=[{\"dontexist\"}])"
   ]
  },
  {
   "cell_type": "markdown",
   "id": "a1d102a5-0477-4629-8c25-3b69e449905d",
   "metadata": {},
   "source": [
    "## Add RO license"
   ]
  },
  {
   "cell_type": "markdown",
   "id": "c863dbc9-fcc2-4a83-9287-9d5ef383b32a",
   "metadata": {},
   "source": [
    "### list available pre-defined licenses"
   ]
  },
  {
   "cell_type": "code",
   "execution_count": 40,
   "id": "fa86eaa8-2be7-42c7-b65c-be4853717240",
   "metadata": {},
   "outputs": [
    {
     "data": {
      "text/plain": [
       "['CC-BY-4.0']"
      ]
     },
     "execution_count": 40,
     "metadata": {},
     "output_type": "execute_result"
    }
   ],
   "source": [
    "licenses=rohub.list_available_licenses()\n",
    "matches = [x for x in licenses if x.startswith('CC-BY-4.0')]\n",
    "matches"
   ]
  },
  {
   "cell_type": "markdown",
   "id": "0cb84129-705d-4389-9aaf-c35b0daf2e68",
   "metadata": {},
   "source": [
    "### set license"
   ]
  },
  {
   "cell_type": "code",
   "execution_count": 41,
   "id": "81e765b2-b065-4bc8-b3a6-229d0957174f",
   "metadata": {},
   "outputs": [
    {
     "data": {
      "text/plain": [
       "{'identifier': 'CC-BY-4.0',\n",
       " 'title': 'Creative Commons Attribution 4.0 International',\n",
       " 'description': 'Creative Commons Attribution 4.0 International',\n",
       " 'created': '2016-09-12T02:51:36.019342+00:00',\n",
       " 'updated': '2021-10-07T08:21:23.593350+00:00',\n",
       " 'creator': None,\n",
       " 'status': 'active',\n",
       " 'url': 'https://creativecommons.org/licenses/by/4.0/legalcode',\n",
       " 'custom': False}"
      ]
     },
     "execution_count": 41,
     "metadata": {},
     "output_type": "execute_result"
    }
   ],
   "source": [
    "ro.set_license(license_id=matches[0]) "
   ]
  },
  {
   "cell_type": "markdown",
   "id": "6932e09c-fffb-44fa-ae01-fb4f8c182d13",
   "metadata": {},
   "source": [
    "### create custom license"
   ]
  },
  {
   "cell_type": "code",
   "execution_count": 42,
   "id": "efb27a1b-0d84-4f06-9c38-5c57e9465afe",
   "metadata": {},
   "outputs": [
    {
     "data": {
      "text/plain": [
       "{'identifier': 'acme-cc-by',\n",
       " 'title': 'ACME Inc. Commercial License Attribution',\n",
       " 'description': None,\n",
       " 'status': 'active',\n",
       " 'url': 'http://www.acme.org/licence-commercial-attribution',\n",
       " 'created': '2022-02-17T20:23:57.673731Z',\n",
       " 'updated': None,\n",
       " 'creator': 'rpalma@man.poznan.pl',\n",
       " 'api_link': 'https://api.rohub.org/api/custom-licenses/acme-cc-by/'}"
      ]
     },
     "execution_count": 42,
     "metadata": {},
     "output_type": "execute_result"
    }
   ],
   "source": [
    "license_identifier=\"acme-cc-by\"\n",
    "license_title=\"ACME Inc. Commercial License Attribution\"\n",
    "license_status=\"active\"\n",
    "license_url=\"http://www.acme.org/licence-commercial-attribution\"\n",
    "\n",
    "rohub.add_custom_license(identifier=license_identifier, title=license_title,\n",
    "    status=license_status, license_url=license_url)"
   ]
  },
  {
   "cell_type": "code",
   "execution_count": 43,
   "id": "17b3b231-e2c6-48ab-93b7-ba75bb6cb13c",
   "metadata": {},
   "outputs": [
    {
     "data": {
      "text/plain": [
       "['active', 'retired']"
      ]
     },
     "execution_count": 43,
     "metadata": {},
     "output_type": "execute_result"
    }
   ],
   "source": [
    "rohub.list_valid_license_status()"
   ]
  },
  {
   "cell_type": "code",
   "execution_count": 44,
   "id": "1aaf1c57-0c94-46eb-ac0f-577db94c3442",
   "metadata": {},
   "outputs": [
    {
     "data": {
      "text/plain": [
       "[{'identifier': 'acme-cc',\n",
       "  'title': 'ACME Inc. Commercial License',\n",
       "  'description': None,\n",
       "  'status': 'active',\n",
       "  'url': 'http://www.acme.org/licence-commercial',\n",
       "  'created': '2021-12-09T13:54:10.927006Z',\n",
       "  'updated': None,\n",
       "  'creator': 'rpalma@man.poznan.pl',\n",
       "  'api_link': 'https://api.rohub.org/api/custom-licenses/acme-cc/'},\n",
       " {'identifier': 'acme-cc-by',\n",
       "  'title': 'ACME Inc. Commercial License Attribution',\n",
       "  'description': None,\n",
       "  'status': 'active',\n",
       "  'url': 'http://www.acme.org/licence-commercial-attribution',\n",
       "  'created': '2022-02-17T20:23:57.673731Z',\n",
       "  'updated': None,\n",
       "  'creator': 'rpalma@man.poznan.pl',\n",
       "  'api_link': 'https://api.rohub.org/api/custom-licenses/acme-cc-by/'},\n",
       " {'identifier': 'my-example-license1',\n",
       "  'title': 'My example license',\n",
       "  'description': 'this is an example license',\n",
       "  'status': 'active',\n",
       "  'url': 'http://myexample.org/license',\n",
       "  'created': '2021-11-08T16:18:29.048012Z',\n",
       "  'updated': None,\n",
       "  'creator': 'rpalma@man.poznan.pl',\n",
       "  'api_link': 'https://api.rohub.org/api/custom-licenses/my-example-license1/'}]"
      ]
     },
     "execution_count": 44,
     "metadata": {},
     "output_type": "execute_result"
    }
   ],
   "source": [
    "rohub.list_custom_licenses() "
   ]
  },
  {
   "cell_type": "markdown",
   "id": "4cf71f90-a176-403c-b508-5d66e77f5298",
   "metadata": {},
   "source": [
    "## Add RO Funding information"
   ]
  },
  {
   "cell_type": "markdown",
   "id": "3f593c4b-4e0f-4191-b2e9-0b19af75ded2",
   "metadata": {},
   "source": [
    "### list predefined funders"
   ]
  },
  {
   "cell_type": "code",
   "execution_count": 51,
   "id": "1d6f4310-6e7a-49ef-bd47-13a03d0a1b96",
   "metadata": {},
   "outputs": [
    {
     "data": {
      "text/plain": [
       "{1: {'api_url': 'https://zenodo.org/api/funders/10.13039/501100010363',\n",
       "  'acronym': [],\n",
       "  'identifiers': {'oaf': None},\n",
       "  'name': 'Minister Erna Hamiltons Legat for Videnskab og Kunst',\n",
       "  'doi': '10.13039/501100010363'},\n",
       " 2: {'api_url': 'https://zenodo.org/api/funders/10.13039/501100009192',\n",
       "  'acronym': [],\n",
       "  'identifiers': {'oaf': None},\n",
       "  'name': 'Alberta Innovates',\n",
       "  'doi': '10.13039/501100009192'},\n",
       " 3: {'api_url': 'https://zenodo.org/api/funders/10.13039/100013028',\n",
       "  'acronym': [],\n",
       "  'identifiers': {'oaf': None},\n",
       "  'name': 'Frank McGraw Memorial Chair in Cancer Research',\n",
       "  'doi': '10.13039/100013028'},\n",
       " 4: {'api_url': 'https://zenodo.org/api/funders/10.13039/501100009191',\n",
       "  'acronym': [],\n",
       "  'identifiers': {'oaf': None},\n",
       "  'name': \"Attorney-General's Department, Australian Government\",\n",
       "  'doi': '10.13039/501100009191'},\n",
       " 5: {'api_url': 'https://zenodo.org/api/funders/10.13039/100011344',\n",
       "  'acronym': [],\n",
       "  'identifiers': {'oaf': None},\n",
       "  'name': 'McDougall Trust',\n",
       "  'doi': '10.13039/100011344'},\n",
       " 6: {'api_url': 'https://zenodo.org/api/funders/10.13039/501100009188',\n",
       "  'acronym': [],\n",
       "  'identifiers': {'oaf': None},\n",
       "  'name': 'Department of Agriculture and Water Resources, Australian Government',\n",
       "  'doi': '10.13039/501100009188'},\n",
       " 7: {'api_url': 'https://zenodo.org/api/funders/10.13039/501100010362',\n",
       "  'acronym': [],\n",
       "  'identifiers': {'oaf': None},\n",
       "  'name': 'Medical Workshop',\n",
       "  'doi': '10.13039/501100010362'},\n",
       " 8: {'api_url': 'https://zenodo.org/api/funders/10.13039/501100010361',\n",
       "  'acronym': [],\n",
       "  'identifiers': {'oaf': None},\n",
       "  'name': 'Max Fodgaard Fonden',\n",
       "  'doi': '10.13039/501100010361'},\n",
       " 9: {'api_url': 'https://zenodo.org/api/funders/10.13039/100013013',\n",
       "  'acronym': [],\n",
       "  'identifiers': {'oaf': None},\n",
       "  'name': 'Target ALS',\n",
       "  'doi': '10.13039/100013013'},\n",
       " 10: {'api_url': 'https://zenodo.org/api/funders/10.13039/501100009187',\n",
       "  'acronym': [],\n",
       "  'identifiers': {'oaf': None},\n",
       "  'name': 'Medical Research Foundation',\n",
       "  'doi': '10.13039/501100009187'}}"
      ]
     },
     "execution_count": 51,
     "metadata": {},
     "output_type": "execute_result"
    }
   ],
   "source": [
    "funders=rohub.zenodo_list_funders(number_of_results=10)\n",
    "funders"
   ]
  },
  {
   "cell_type": "markdown",
   "id": "fc988839-3942-49e8-b832-772660e6a293",
   "metadata": {},
   "source": [
    "### add funding"
   ]
  },
  {
   "cell_type": "code",
   "execution_count": 60,
   "id": "0ec6f301-6fc9-4ab2-a403-79993666f7ee",
   "metadata": {},
   "outputs": [
    {
     "data": {
      "text/plain": [
       "'f587540b-7414-40b5-ba0b-f74625faf57b'"
      ]
     },
     "execution_count": 60,
     "metadata": {},
     "output_type": "execute_result"
    }
   ],
   "source": [
    "grant_id=\"101017502\"\n",
    "grant_Name=\"RELIANCE\"\n",
    "grant_title=\"Research Lifecycle Management for Earth Science Communities and Copernicus Users\"\n",
    "funder_name=\"European Commission\"\n",
    "funder_doi=\"10.13039/501100000781\"\n",
    "\n",
    "ro.add_funding(grant_identifier=grant_id, grant_name=grant_Name, funder_name=funder_name,\n",
    "grant_title=grant_title, funder_doi=funder_doi)"
   ]
  },
  {
   "cell_type": "markdown",
   "id": "ffd09d20-5306-4f61-b9c7-15c9e56febb8",
   "metadata": {},
   "source": [
    "### list fundings"
   ]
  },
  {
   "cell_type": "code",
   "execution_count": 64,
   "id": "ac8e4304-0871-49d3-a0a7-dbdc7d045443",
   "metadata": {},
   "outputs": [
    {
     "data": {
      "text/html": [
       "<div>\n",
       "<style scoped>\n",
       "    .dataframe tbody tr th:only-of-type {\n",
       "        vertical-align: middle;\n",
       "    }\n",
       "\n",
       "    .dataframe tbody tr th {\n",
       "        vertical-align: top;\n",
       "    }\n",
       "\n",
       "    .dataframe thead th {\n",
       "        text-align: right;\n",
       "    }\n",
       "</style>\n",
       "<table border=\"1\" class=\"dataframe\">\n",
       "  <thead>\n",
       "    <tr style=\"text-align: right;\">\n",
       "      <th></th>\n",
       "      <th>funding_id</th>\n",
       "      <th>funding_type</th>\n",
       "      <th>grant_id</th>\n",
       "      <th>grant_name</th>\n",
       "      <th>grant_title</th>\n",
       "      <th>funder_type</th>\n",
       "      <th>funder_name</th>\n",
       "      <th>funder_doi</th>\n",
       "    </tr>\n",
       "  </thead>\n",
       "  <tbody>\n",
       "    <tr>\n",
       "      <th>0</th>\n",
       "      <td>d56e3455-9dac-4b46-ad04-e684d34e4545</td>\n",
       "      <td>http://schema.org/Grant</td>\n",
       "      <td>101017502</td>\n",
       "      <td>RELIANCE</td>\n",
       "      <td>Research Lifecycle Management for Earth Scienc...</td>\n",
       "      <td>http://schema.org/Organization</td>\n",
       "      <td>European Commission</td>\n",
       "      <td>10.13039/501100000781</td>\n",
       "    </tr>\n",
       "  </tbody>\n",
       "</table>\n",
       "</div>"
      ],
      "text/plain": [
       "                             funding_id             funding_type   grant_id  \\\n",
       "0  d56e3455-9dac-4b46-ad04-e684d34e4545  http://schema.org/Grant  101017502   \n",
       "\n",
       "  grant_name                                        grant_title  \\\n",
       "0   RELIANCE  Research Lifecycle Management for Earth Scienc...   \n",
       "\n",
       "                      funder_type          funder_name             funder_doi  \n",
       "0  http://schema.org/Organization  European Commission  10.13039/501100000781  "
      ]
     },
     "execution_count": 64,
     "metadata": {},
     "output_type": "execute_result"
    }
   ],
   "source": [
    "fundings=ro.list_fundings()\n",
    "fundings"
   ]
  },
  {
   "cell_type": "markdown",
   "id": "79f1c6bd-186b-4d47-9ad6-2510b41f5982",
   "metadata": {},
   "source": [
    "### delete funding"
   ]
  },
  {
   "cell_type": "code",
   "execution_count": 63,
   "id": "8c5d1982-c0d9-45d3-a0b0-e6f66c3496ae",
   "metadata": {},
   "outputs": [
    {
     "name": "stdout",
     "output_type": "stream",
     "text": [
      "Funding successfully deleted!\n"
     ]
    }
   ],
   "source": [
    "ro.delete_funding(funding_identifier=fundings.loc[1,\"funding_id\"])"
   ]
  },
  {
   "cell_type": "markdown",
   "id": "553b5445-1690-49eb-a0d5-ad16985b8366",
   "metadata": {
    "tags": []
   },
   "source": [
    "## RO Evolution"
   ]
  },
  {
   "cell_type": "markdown",
   "id": "470232a1-4bfb-4222-8f90-584bfb405b26",
   "metadata": {
    "tags": []
   },
   "source": [
    "### Create simple snapshot/archive"
   ]
  },
  {
   "cell_type": "code",
   "execution_count": null,
   "id": "8ab275ee-41f8-4816-a216-a85d47807365",
   "metadata": {},
   "outputs": [],
   "source": [
    "snapshot_id=ro.snapshot()\n",
    "snapshot_id"
   ]
  },
  {
   "cell_type": "markdown",
   "id": "a49a1b4b-fbff-47c9-b959-a0274c72f189",
   "metadata": {
    "tags": []
   },
   "source": [
    "### Create snapshot/archive, optionally assign DOI + publish it in Zenodo"
   ]
  },
  {
   "cell_type": "code",
   "execution_count": null,
   "id": "2bb8fd73-71fc-4b52-8aa7-b9b58c577288",
   "metadata": {
    "tags": []
   },
   "outputs": [],
   "source": [
    "snapshot_title=\"Copernicus Atmosphere Monitoring Service Data Cube RO Feb 17th - published v1\"\n",
    "snapshot_id_pub=ro.snapshot(title=snapshot_title, create_doi=True, publication_services=[\"Zenodo\"])\n",
    "snapshot_id_pub\n",
    "#%snapshot_id=ro.snapshot(create_doi=True, publication_services=[\"Zenodo\"])\n",
    "#%snapshot_id=ro.snapshot(publication_services=[\"Zenodo\"])\n"
   ]
  },
  {
   "cell_type": "markdown",
   "id": "3b4282fb-aa0b-4087-a69c-b1805dcc2f66",
   "metadata": {},
   "source": [
    "#### Load published snapshot/archive and list zenodo id/doi"
   ]
  },
  {
   "cell_type": "code",
   "execution_count": null,
   "id": "fd00dd0a-8dbf-482e-8d0e-e50be30d7cdc",
   "metadata": {},
   "outputs": [],
   "source": [
    "published_ro = rohub.ros_load(identifier=snapshot_id_pub)\n",
    "published_ro.list_publications()"
   ]
  },
  {
   "cell_type": "markdown",
   "id": "d62e53a6-17f2-4015-ba49-0974e2d1287f",
   "metadata": {},
   "source": [
    "### Create snapshot/archive, optionally assign DOI + publish it in B2Share"
   ]
  },
  {
   "cell_type": "code",
   "execution_count": null,
   "id": "7563a2c2-2e3c-4a02-9c70-fdaf7094564a",
   "metadata": {},
   "outputs": [],
   "source": [
    "snapshot_title=\"Copernicus Atmosphere Monitoring Service Data Cube RO December 9th - published v2\"\n",
    "snapshot_id_pub=ro.snapshot(title=snapshot_title, create_doi=False, publication_services=[\"B2SHARE\"])\n",
    "snapshot_id_pub"
   ]
  },
  {
   "cell_type": "markdown",
   "id": "b23a6e9f-9ba9-4b70-91af-6ad3456c9b79",
   "metadata": {},
   "source": [
    "#### Load published snapshot/archive and list b2share id/doi"
   ]
  },
  {
   "cell_type": "code",
   "execution_count": null,
   "id": "e9dba5ed-5454-4d29-97bd-6ead5048d3de",
   "metadata": {},
   "outputs": [],
   "source": [
    "published_ro = rohub.ros_load(identifier=snapshot_id_pub)\n",
    "published_ro.list_publications()"
   ]
  },
  {
   "cell_type": "markdown",
   "id": "5b4151d2-b0bf-4d5f-a2f8-7178ad583ac4",
   "metadata": {},
   "source": [
    "### Fork existing RO to reuse it for my own purposes"
   ]
  },
  {
   "cell_type": "code",
   "execution_count": null,
   "id": "9d6b3b8c-2a9a-4b31-8403-8a183141c822",
   "metadata": {},
   "outputs": [],
   "source": [
    "fork_id=ro.fork(title=\"Forked Copernicus Atmosphere Monitoring Service Data Cube RO December 9th\")\n",
    "forked_ro = rohub.ros_load(identifier=fork_id)\n",
    "forked_ro.show_metadata()\n",
    "#%time fork_id=ro.fork()"
   ]
  },
  {
   "cell_type": "markdown",
   "id": "0bdc88bc-73d2-4342-a2b6-a59a7da9cba0",
   "metadata": {},
   "source": [
    "### Retrieve job information"
   ]
  },
  {
   "cell_type": "code",
   "execution_count": null,
   "id": "9cf29791-0a4d-447d-98fa-cfe06ca863f7",
   "metadata": {},
   "outputs": [],
   "source": [
    "job_id=\"bafee113-1014-411c-9025-1fd7a0508a60\"\n",
    "rohub.is_job_success(job_id=job_id)"
   ]
  },
  {
   "cell_type": "markdown",
   "id": "1e13abaf-0671-435f-931b-a792c969c1c0",
   "metadata": {},
   "source": [
    "## Resource methods"
   ]
  },
  {
   "cell_type": "markdown",
   "id": "368fffa5-4e19-4f21-b6e3-e39b74cdd34b",
   "metadata": {},
   "source": [
    "### Load resource"
   ]
  },
  {
   "cell_type": "code",
   "execution_count": 68,
   "id": "55177085-5d12-4f4b-b9ca-ddffd19f3163",
   "metadata": {},
   "outputs": [
    {
     "data": {
      "text/html": [
       "<div>\n",
       "<style scoped>\n",
       "    .dataframe tbody tr th:only-of-type {\n",
       "        vertical-align: middle;\n",
       "    }\n",
       "\n",
       "    .dataframe tbody tr th {\n",
       "        vertical-align: top;\n",
       "    }\n",
       "\n",
       "    .dataframe thead th {\n",
       "        text-align: right;\n",
       "    }\n",
       "</style>\n",
       "<table border=\"1\" class=\"dataframe\">\n",
       "  <thead>\n",
       "    <tr style=\"text-align: right;\">\n",
       "      <th></th>\n",
       "      <th>identifier</th>\n",
       "      <th>type</th>\n",
       "      <th>source</th>\n",
       "      <th>title</th>\n",
       "      <th>description</th>\n",
       "      <th>url</th>\n",
       "      <th>name</th>\n",
       "      <th>path</th>\n",
       "      <th>size</th>\n",
       "      <th>creator</th>\n",
       "      <th>created_on</th>\n",
       "      <th>modified_on</th>\n",
       "      <th>download_url</th>\n",
       "    </tr>\n",
       "  </thead>\n",
       "  <tbody>\n",
       "    <tr>\n",
       "      <th>0</th>\n",
       "      <td>432b57c1-de4b-411e-b17e-524d15202a7a</td>\n",
       "      <td>Data Cube Collection</td>\n",
       "      <td>external</td>\n",
       "      <td>EU_CAMS_SURFACE_PM10_G</td>\n",
       "      <td>This dataset provides daily air quality analys...</td>\n",
       "      <td>https://reliance-das.adamplatform.eu/opensearc...</td>\n",
       "      <td>EU_CAMS_SURFACE_PM10_G</td>\n",
       "      <td>https://reliance-das.adamplatform.eu/opensearc...</td>\n",
       "      <td>NaN</td>\n",
       "      <td>rpalma@man.poznan.pl</td>\n",
       "      <td>2022-02-17T15:21:26.221676+0000</td>\n",
       "      <td>2022-02-17T15:21:26.226548+0000</td>\n",
       "      <td>https://reliance-das.adamplatform.eu/opensearc...</td>\n",
       "    </tr>\n",
       "    <tr>\n",
       "      <th>1</th>\n",
       "      <td>9ea00a46-196c-4df6-b0d4-58d8b820c982</td>\n",
       "      <td>Data Cube Product</td>\n",
       "      <td>external</td>\n",
       "      <td>Index of daily PM10 concentration for Septembe...</td>\n",
       "      <td>List of hourly PM10 concentration data for Sep...</td>\n",
       "      <td>https://reliance-das.adamplatform.eu/opensearc...</td>\n",
       "      <td>Index of daily PM10 concentration for Septembe...</td>\n",
       "      <td>https://reliance-das.adamplatform.eu/opensearc...</td>\n",
       "      <td>NaN</td>\n",
       "      <td>rpalma@man.poznan.pl</td>\n",
       "      <td>2022-02-17T15:22:15.915421+0000</td>\n",
       "      <td>2022-02-17T15:22:15.917573+0000</td>\n",
       "      <td>https://reliance-das.adamplatform.eu/opensearc...</td>\n",
       "    </tr>\n",
       "    <tr>\n",
       "      <th>2</th>\n",
       "      <td>da8fc20e-8b97-4399-b832-37a9856c0195</td>\n",
       "      <td>Dataset</td>\n",
       "      <td>external</td>\n",
       "      <td>Catch data from Norway</td>\n",
       "      <td>Catch data records sample from 2019</td>\n",
       "      <td>https://box.psnc.pl/f/d90a0e1e0d/?raw=1</td>\n",
       "      <td>Catch data from Norway</td>\n",
       "      <td>https://box.psnc.pl/f/d90a0e1e0d/?raw=1</td>\n",
       "      <td>NaN</td>\n",
       "      <td>rpalma@man.poznan.pl</td>\n",
       "      <td>2022-02-17T15:22:47.629469+0000</td>\n",
       "      <td>2022-02-17T15:22:47.631124+0000</td>\n",
       "      <td>https://box.psnc.pl/f/d90a0e1e0d/?raw=1</td>\n",
       "    </tr>\n",
       "    <tr>\n",
       "      <th>3</th>\n",
       "      <td>4c5d6741-3fef-4bc1-a70f-8df549e15236</td>\n",
       "      <td>Jupyter Notebook</td>\n",
       "      <td>external</td>\n",
       "      <td>Jupter Notebook of CAMS European air quality a...</td>\n",
       "      <td>Jupyter Notebook for discovering, accessing an...</td>\n",
       "      <td>https://zenodo.org/record/5554786#.YYlWo9nMI-Q</td>\n",
       "      <td>Jupter Notebook of CAMS European air quality a...</td>\n",
       "      <td>https://zenodo.org/record/5554786#.YYlWo9nMI-Q</td>\n",
       "      <td>NaN</td>\n",
       "      <td>rpalma@man.poznan.pl</td>\n",
       "      <td>2022-02-17T15:22:30.059240+0000</td>\n",
       "      <td>2022-02-17T15:22:30.061178+0000</td>\n",
       "      <td>https://zenodo.org/record/5554786#.YYlWo9nMI-Q</td>\n",
       "    </tr>\n",
       "    <tr>\n",
       "      <th>4</th>\n",
       "      <td>7b5081dd-dfc6-4210-968e-a85177e40543</td>\n",
       "      <td>Result</td>\n",
       "      <td>external</td>\n",
       "      <td>Daily PM10 concentration</td>\n",
       "      <td>Daily PM10 concentration for 1st September 201...</td>\n",
       "      <td>https://reliance-das.adamplatform.eu/wcs?servi...</td>\n",
       "      <td>Daily PM10 concentration</td>\n",
       "      <td>https://reliance-das.adamplatform.eu/wcs?servi...</td>\n",
       "      <td>NaN</td>\n",
       "      <td>rpalma@man.poznan.pl</td>\n",
       "      <td>2022-02-17T15:22:03.118296+0000</td>\n",
       "      <td>2022-02-17T15:22:03.119476+0000</td>\n",
       "      <td>https://reliance-das.adamplatform.eu/wcs?servi...</td>\n",
       "    </tr>\n",
       "    <tr>\n",
       "      <th>5</th>\n",
       "      <td>9044e8a8-76ab-45a9-92de-af5016a532d1</td>\n",
       "      <td>Sketch</td>\n",
       "      <td>internal</td>\n",
       "      <td>Flow to compute monthly map</td>\n",
       "      <td>None</td>\n",
       "      <td>None</td>\n",
       "      <td>Flow to compute monthly map</td>\n",
       "      <td>data/mysubfolder/flow-dcro.png</td>\n",
       "      <td>73394.0</td>\n",
       "      <td>rpalma@man.poznan.pl</td>\n",
       "      <td>2022-02-17T15:19:04.098429+0000</td>\n",
       "      <td>2022-02-17T15:19:04.099529+0000</td>\n",
       "      <td>https://api.rohub.org/api/resources/9044e8a8-7...</td>\n",
       "    </tr>\n",
       "  </tbody>\n",
       "</table>\n",
       "</div>"
      ],
      "text/plain": [
       "                             identifier                  type    source  \\\n",
       "0  432b57c1-de4b-411e-b17e-524d15202a7a  Data Cube Collection  external   \n",
       "1  9ea00a46-196c-4df6-b0d4-58d8b820c982     Data Cube Product  external   \n",
       "2  da8fc20e-8b97-4399-b832-37a9856c0195               Dataset  external   \n",
       "3  4c5d6741-3fef-4bc1-a70f-8df549e15236      Jupyter Notebook  external   \n",
       "4  7b5081dd-dfc6-4210-968e-a85177e40543                Result  external   \n",
       "5  9044e8a8-76ab-45a9-92de-af5016a532d1                Sketch  internal   \n",
       "\n",
       "                                               title  \\\n",
       "0                             EU_CAMS_SURFACE_PM10_G   \n",
       "1  Index of daily PM10 concentration for Septembe...   \n",
       "2                             Catch data from Norway   \n",
       "3  Jupter Notebook of CAMS European air quality a...   \n",
       "4                           Daily PM10 concentration   \n",
       "5                        Flow to compute monthly map   \n",
       "\n",
       "                                         description  \\\n",
       "0  This dataset provides daily air quality analys...   \n",
       "1  List of hourly PM10 concentration data for Sep...   \n",
       "2                Catch data records sample from 2019   \n",
       "3  Jupyter Notebook for discovering, accessing an...   \n",
       "4  Daily PM10 concentration for 1st September 201...   \n",
       "5                                               None   \n",
       "\n",
       "                                                 url  \\\n",
       "0  https://reliance-das.adamplatform.eu/opensearc...   \n",
       "1  https://reliance-das.adamplatform.eu/opensearc...   \n",
       "2            https://box.psnc.pl/f/d90a0e1e0d/?raw=1   \n",
       "3     https://zenodo.org/record/5554786#.YYlWo9nMI-Q   \n",
       "4  https://reliance-das.adamplatform.eu/wcs?servi...   \n",
       "5                                               None   \n",
       "\n",
       "                                                name  \\\n",
       "0                             EU_CAMS_SURFACE_PM10_G   \n",
       "1  Index of daily PM10 concentration for Septembe...   \n",
       "2                             Catch data from Norway   \n",
       "3  Jupter Notebook of CAMS European air quality a...   \n",
       "4                           Daily PM10 concentration   \n",
       "5                        Flow to compute monthly map   \n",
       "\n",
       "                                                path     size  \\\n",
       "0  https://reliance-das.adamplatform.eu/opensearc...      NaN   \n",
       "1  https://reliance-das.adamplatform.eu/opensearc...      NaN   \n",
       "2            https://box.psnc.pl/f/d90a0e1e0d/?raw=1      NaN   \n",
       "3     https://zenodo.org/record/5554786#.YYlWo9nMI-Q      NaN   \n",
       "4  https://reliance-das.adamplatform.eu/wcs?servi...      NaN   \n",
       "5                     data/mysubfolder/flow-dcro.png  73394.0   \n",
       "\n",
       "                creator                       created_on  \\\n",
       "0  rpalma@man.poznan.pl  2022-02-17T15:21:26.221676+0000   \n",
       "1  rpalma@man.poznan.pl  2022-02-17T15:22:15.915421+0000   \n",
       "2  rpalma@man.poznan.pl  2022-02-17T15:22:47.629469+0000   \n",
       "3  rpalma@man.poznan.pl  2022-02-17T15:22:30.059240+0000   \n",
       "4  rpalma@man.poznan.pl  2022-02-17T15:22:03.118296+0000   \n",
       "5  rpalma@man.poznan.pl  2022-02-17T15:19:04.098429+0000   \n",
       "\n",
       "                       modified_on  \\\n",
       "0  2022-02-17T15:21:26.226548+0000   \n",
       "1  2022-02-17T15:22:15.917573+0000   \n",
       "2  2022-02-17T15:22:47.631124+0000   \n",
       "3  2022-02-17T15:22:30.061178+0000   \n",
       "4  2022-02-17T15:22:03.119476+0000   \n",
       "5  2022-02-17T15:19:04.099529+0000   \n",
       "\n",
       "                                        download_url  \n",
       "0  https://reliance-das.adamplatform.eu/opensearc...  \n",
       "1  https://reliance-das.adamplatform.eu/opensearc...  \n",
       "2            https://box.psnc.pl/f/d90a0e1e0d/?raw=1  \n",
       "3     https://zenodo.org/record/5554786#.YYlWo9nMI-Q  \n",
       "4  https://reliance-das.adamplatform.eu/wcs?servi...  \n",
       "5  https://api.rohub.org/api/resources/9044e8a8-7...  "
      ]
     },
     "execution_count": 68,
     "metadata": {},
     "output_type": "execute_result"
    }
   ],
   "source": [
    "results=ro.list_resources()\n",
    "results"
   ]
  },
  {
   "cell_type": "code",
   "execution_count": 69,
   "id": "7b856237-95c4-47e9-b42e-7baf4b8b89b2",
   "metadata": {
    "tags": []
   },
   "outputs": [
    {
     "name": "stdout",
     "output_type": "stream",
     "text": [
      "Resource was successfully loaded with id = 9044e8a8-76ab-45a9-92de-af5016a532d1\n"
     ]
    }
   ],
   "source": [
    "my_res1=rohub.resource_load(identifier=results.loc[5,\"identifier\"])"
   ]
  },
  {
   "cell_type": "markdown",
   "id": "18a851c0-9c06-4a63-99ef-4647363b055d",
   "metadata": {},
   "source": [
    "### show basic metadata"
   ]
  },
  {
   "cell_type": "code",
   "execution_count": 70,
   "id": "c3189bb9-fd9b-4d1d-86fe-3b9c1a450888",
   "metadata": {},
   "outputs": [
    {
     "data": {
      "text/plain": [
       "{'identifier': '9044e8a8-76ab-45a9-92de-af5016a532d1',\n",
       " 'type': 'Sketch',\n",
       " 'source': 'internal',\n",
       " 'title': 'Flow to compute monthly map',\n",
       " 'description': None,\n",
       " 'url': None,\n",
       " 'folder': 'data/mysubfolder',\n",
       " 'path': 'data/mysubfolder/flow-dcro.png',\n",
       " 'size': 73394,\n",
       " 'creator': 'rpalma@man.poznan.pl',\n",
       " 'created_on': '2022-02-17T15:19:04.098429+0000',\n",
       " 'modified_on': '2022-02-17T15:19:04.099529+0000',\n",
       " 'download_url': 'https://api.rohub.org/api/resources/9044e8a8-76ab-45a9-92de-af5016a532d1/download/'}"
      ]
     },
     "execution_count": 70,
     "metadata": {},
     "output_type": "execute_result"
    }
   ],
   "source": [
    "my_res1.show_metadata()"
   ]
  },
  {
   "cell_type": "markdown",
   "id": "633af189-f251-4178-bc6d-e0112c4c09cc",
   "metadata": {},
   "source": [
    "### Add/modify metadata"
   ]
  },
  {
   "cell_type": "code",
   "execution_count": 71,
   "id": "727d6004-8c97-4e37-82b4-376e2d3b4dc7",
   "metadata": {
    "tags": []
   },
   "outputs": [
    {
     "data": {
      "text/plain": [
       "{'title': 'Flow to compute monthly map - updated',\n",
       " 'folder': '4c2a984f-b665-48d3-be76-b63df4e84507',\n",
       " 'description': 'This resource has this description',\n",
       " 'type': 'Sketch'}"
      ]
     },
     "execution_count": 71,
     "metadata": {},
     "output_type": "execute_result"
    }
   ],
   "source": [
    "my_res1.title=\"Flow to compute monthly map - updated\"\n",
    "my_res1.description=\"This resource has this description\"\n",
    "my_res1.folder=\"biblio\"\n",
    "my_res1.update_metadata()"
   ]
  },
  {
   "cell_type": "markdown",
   "id": "cef47663-f6f8-4c4c-a74f-af48482fc338",
   "metadata": {},
   "source": [
    "### Modify content (internal resource)"
   ]
  },
  {
   "cell_type": "code",
   "execution_count": 72,
   "id": "b23c9309-617c-410b-ad33-c3eb344ffcda",
   "metadata": {},
   "outputs": [
    {
     "data": {
      "text/plain": [
       "{'identifier': '9044e8a8-76ab-45a9-92de-af5016a532d1',\n",
       " 'shared_link': 'https://w3id.org/ro-id/88374f34-bdb3-4449-97b3-8e0a8483aa66/resources/9044e8a8-76ab-45a9-92de-af5016a532d1',\n",
       " 'title': 'Flow to compute monthly map - updated',\n",
       " 'folder': '4c2a984f-b665-48d3-be76-b63df4e84507',\n",
       " 'ros': ['88374f34-bdb3-4449-97b3-8e0a8483aa66'],\n",
       " 'description': 'This resource has this description',\n",
       " 'url': None,\n",
       " 'name': 'Flow to compute monthly map - updated',\n",
       " 'filename': 'Group 910.png',\n",
       " 'path': 'biblio/Group 910.png',\n",
       " 'size': 5021,\n",
       " 'download_url': 'https://api.rohub.org/api/resources/9044e8a8-76ab-45a9-92de-af5016a532d1/download/',\n",
       " 'type': 'Sketch',\n",
       " 'created': '2022-02-17T15:19:04.098429+0000',\n",
       " 'creator': 'rpalma@man.poznan.pl',\n",
       " 'modificator': 'rpalma@man.poznan.pl',\n",
       " 'modified': '2022-02-17T21:13:30.611600+0000',\n",
       " 'created_on': '2022-02-17T15:19:04.098429+0000',\n",
       " 'created_by': 'rpalma@man.poznan.pl',\n",
       " 'modified_on': '2022-02-17T21:13:30.611600+0000',\n",
       " 'modified_by': 'rpalma@man.poznan.pl',\n",
       " 'original_created_on': None,\n",
       " 'original_created_by': None,\n",
       " 'original_creator_name': None,\n",
       " 'authors_credits': ['rpalma@man.poznan.pl'],\n",
       " 'contributors_credits': [],\n",
       " 'shared': False,\n",
       " 'doi': None,\n",
       " 'read_only': False,\n",
       " 'api_link': 'https://api.rohub.org/api/resources/9044e8a8-76ab-45a9-92de-af5016a532d1/'}"
      ]
     },
     "execution_count": 72,
     "metadata": {},
     "output_type": "execute_result"
    }
   ],
   "source": [
    "resi_file_path=\"/home/jovyan/files/Group 910.png\"\n",
    "my_res1.update_content(file_path=resi_file_path)"
   ]
  },
  {
   "cell_type": "markdown",
   "id": "5379f376-4953-41ac-bd66-8f5b913f6cb1",
   "metadata": {},
   "source": [
    "### Modify content (external resource)"
   ]
  },
  {
   "cell_type": "code",
   "execution_count": 73,
   "id": "1363b033-965e-4aa3-b5f9-24c712576d9b",
   "metadata": {},
   "outputs": [
    {
     "name": "stdout",
     "output_type": "stream",
     "text": [
      "Resource was successfully loaded with id = 4c5d6741-3fef-4bc1-a70f-8df549e15236\n"
     ]
    },
    {
     "data": {
      "text/plain": [
       "{'identifier': '4c5d6741-3fef-4bc1-a70f-8df549e15236',\n",
       " 'shared_link': 'https://w3id.org/ro-id/88374f34-bdb3-4449-97b3-8e0a8483aa66/resources/4c5d6741-3fef-4bc1-a70f-8df549e15236',\n",
       " 'title': 'Jupter Notebook of CAMS European air quality analysis from Copernicus Atmosphere Monitoring with RELIANCE services',\n",
       " 'folder': None,\n",
       " 'ros': ['88374f34-bdb3-4449-97b3-8e0a8483aa66'],\n",
       " 'description': 'Jupyter Notebook for discovering, accessing and processing RELIANCE data cube, and creating a Research Object with results, and finally publish it in Zenodo',\n",
       " 'url': 'https://zenodo.org/record/5554786#.YYlWo9nMI-X',\n",
       " 'name': 'Jupter Notebook of CAMS European air quality analysis from Copernicus Atmosphere Monitoring with RELIANCE services',\n",
       " 'filename': None,\n",
       " 'path': 'https://zenodo.org/record/5554786#.YYlWo9nMI-X',\n",
       " 'size': None,\n",
       " 'download_url': 'https://zenodo.org/record/5554786#.YYlWo9nMI-X',\n",
       " 'type': 'Jupyter Notebook',\n",
       " 'created': '2022-02-17T15:22:30.059240+0000',\n",
       " 'creator': 'rpalma@man.poznan.pl',\n",
       " 'modificator': 'rpalma@man.poznan.pl',\n",
       " 'modified': '2022-02-17T21:14:51.809121+0000',\n",
       " 'created_on': '2022-02-17T15:22:30.059240+0000',\n",
       " 'created_by': 'rpalma@man.poznan.pl',\n",
       " 'modified_on': '2022-02-17T21:14:51.809121+0000',\n",
       " 'modified_by': 'rpalma@man.poznan.pl',\n",
       " 'original_created_on': None,\n",
       " 'original_created_by': None,\n",
       " 'original_creator_name': None,\n",
       " 'authors_credits': ['rpalma@man.poznan.pl'],\n",
       " 'contributors_credits': [],\n",
       " 'shared': False,\n",
       " 'doi': None,\n",
       " 'read_only': False,\n",
       " 'api_link': 'https://api.rohub.org/api/resources/4c5d6741-3fef-4bc1-a70f-8df549e15236/'}"
      ]
     },
     "execution_count": 73,
     "metadata": {},
     "output_type": "execute_result"
    }
   ],
   "source": [
    "my_res1_ext=rohub.resource_load(identifier=results.loc[3,\"identifier\"])\n",
    "rese_file_url=\"https://zenodo.org/record/5554786#.YYlWo9nMI-X\"\n",
    "my_res1_ext.update_content(input_url=rese_file_url)"
   ]
  },
  {
   "cell_type": "markdown",
   "id": "32e6f2c0-0e59-4af3-8f8f-850f271ac3ea",
   "metadata": {
    "tags": []
   },
   "source": [
    "### Retrieve resource"
   ]
  },
  {
   "cell_type": "code",
   "execution_count": 74,
   "id": "bb677073-5b10-437d-929f-31062f780ff9",
   "metadata": {},
   "outputs": [
    {
     "name": "stdout",
     "output_type": "stream",
     "text": [
      "File was successfully downloaded.\n"
     ]
    }
   ],
   "source": [
    "file=my_res1.download(resource_filename=\"myresource1.png\")\n"
   ]
  },
  {
   "cell_type": "code",
   "execution_count": 75,
   "id": "87e0ae43-bef6-439a-8ea7-9450e0e76c2a",
   "metadata": {},
   "outputs": [
    {
     "data": {
      "image/png": "[encoded data removed]",
      "text/plain": [
       "<IPython.core.display.Image object>"
      ]
     },
     "execution_count": 75,
     "metadata": {},
     "output_type": "execute_result"
    }
   ],
   "source": [
    "from IPython.display import Image\n",
    "Image(filename=file) "
   ]
  },
  {
   "cell_type": "code",
   "execution_count": 76,
   "id": "0faf10fc-eed7-4a90-b9a0-d59d548b1038",
   "metadata": {},
   "outputs": [
    {
     "name": "stdout",
     "output_type": "stream",
     "text": [
      "Resource was successfully loaded with id = 9ea00a46-196c-4df6-b0d4-58d8b820c982\n",
      "File was successfully downloaded.\n",
      "                                    _id               datasetId  \\\n",
      "0  {'$oid': '60ec701f6dfebc08064e2c53'}  EU_CAMS_SURFACE_PM10_G   \n",
      "1  {'$oid': '60ec701f6dfebc08064e2c57'}  EU_CAMS_SURFACE_PM10_G   \n",
      "2  {'$oid': '60ec701f6dfebc08064e2c5b'}  EU_CAMS_SURFACE_PM10_G   \n",
      "3  {'$oid': '60ec70206dfebc08064e2c60'}  EU_CAMS_SURFACE_PM10_G   \n",
      "4  {'$oid': '60ec70206dfebc08064e2c64'}  EU_CAMS_SURFACE_PM10_G   \n",
      "5  {'$oid': '60ec70206dfebc08064e2c67'}  EU_CAMS_SURFACE_PM10_G   \n",
      "6  {'$oid': '60ec70206dfebc08064e2c6b'}  EU_CAMS_SURFACE_PM10_G   \n",
      "7  {'$oid': '60ec70206dfebc08064e2c70'}  EU_CAMS_SURFACE_PM10_G   \n",
      "8  {'$oid': '60ec70206dfebc08064e2c74'}  EU_CAMS_SURFACE_PM10_G   \n",
      "9  {'$oid': '60ec70206dfebc08064e2c78'}  EU_CAMS_SURFACE_PM10_G   \n",
      "\n",
      "            productDate                                  productId  \\\n",
      "0  2018-09-01T00:00:00Z  EU_CAMS_SURFACE_PM10_G_20180901000000.tif   \n",
      "1  2018-09-01T01:00:00Z  EU_CAMS_SURFACE_PM10_G_20180901010000.tif   \n",
      "2  2018-09-01T02:00:00Z  EU_CAMS_SURFACE_PM10_G_20180901020000.tif   \n",
      "3  2018-09-01T03:00:00Z  EU_CAMS_SURFACE_PM10_G_20180901030000.tif   \n",
      "4  2018-09-01T04:00:00Z  EU_CAMS_SURFACE_PM10_G_20180901040000.tif   \n",
      "5  2018-09-01T05:00:00Z  EU_CAMS_SURFACE_PM10_G_20180901050000.tif   \n",
      "6  2018-09-01T06:00:00Z  EU_CAMS_SURFACE_PM10_G_20180901060000.tif   \n",
      "7  2018-09-01T07:00:00Z  EU_CAMS_SURFACE_PM10_G_20180901070000.tif   \n",
      "8  2018-09-01T08:00:00Z  EU_CAMS_SURFACE_PM10_G_20180901080000.tif   \n",
      "9  2018-09-01T09:00:00Z  EU_CAMS_SURFACE_PM10_G_20180901090000.tif   \n",
      "\n",
      "                                            geometry            insertDate  \\\n",
      "0  {'geometries': [{'type': 'Polygon', 'coordinat...  2021-07-12T16:38:55Z   \n",
      "1  {'geometries': [{'type': 'Polygon', 'coordinat...  2021-07-12T16:38:55Z   \n",
      "2  {'geometries': [{'type': 'Polygon', 'coordinat...  2021-07-12T16:38:55Z   \n",
      "3  {'geometries': [{'type': 'Polygon', 'coordinat...  2021-07-12T16:38:55Z   \n",
      "4  {'geometries': [{'type': 'Polygon', 'coordinat...  2021-07-12T16:38:56Z   \n",
      "5  {'geometries': [{'type': 'Polygon', 'coordinat...  2021-07-12T16:38:56Z   \n",
      "6  {'geometries': [{'type': 'Polygon', 'coordinat...  2021-07-12T16:38:56Z   \n",
      "7  {'geometries': [{'type': 'Polygon', 'coordinat...  2021-07-12T16:38:56Z   \n",
      "8  {'geometries': [{'type': 'Polygon', 'coordinat...  2021-07-12T16:38:56Z   \n",
      "9  {'geometries': [{'type': 'Polygon', 'coordinat...  2021-07-12T16:38:56Z   \n",
      "\n",
      "                                         productPath  \\\n",
      "0  /reliance/CAMS/GTIFF/2018/09/01/EU_CAMS_SURFAC...   \n",
      "1  /reliance/CAMS/GTIFF/2018/09/01/EU_CAMS_SURFAC...   \n",
      "2  /reliance/CAMS/GTIFF/2018/09/01/EU_CAMS_SURFAC...   \n",
      "3  /reliance/CAMS/GTIFF/2018/09/01/EU_CAMS_SURFAC...   \n",
      "4  /reliance/CAMS/GTIFF/2018/09/01/EU_CAMS_SURFAC...   \n",
      "5  /reliance/CAMS/GTIFF/2018/09/01/EU_CAMS_SURFAC...   \n",
      "6  /reliance/CAMS/GTIFF/2018/09/01/EU_CAMS_SURFAC...   \n",
      "7  /reliance/CAMS/GTIFF/2018/09/01/EU_CAMS_SURFAC...   \n",
      "8  /reliance/CAMS/GTIFF/2018/09/01/EU_CAMS_SURFAC...   \n",
      "9  /reliance/CAMS/GTIFF/2018/09/01/EU_CAMS_SURFAC...   \n",
      "\n",
      "                                source  status  \\\n",
      "0  nfs://192.168.1.80:/volume1/VOL100T  Online   \n",
      "1  nfs://192.168.1.80:/volume1/VOL100T  Online   \n",
      "2  nfs://192.168.1.80:/volume1/VOL100T  Online   \n",
      "3  nfs://192.168.1.80:/volume1/VOL100T  Online   \n",
      "4  nfs://192.168.1.80:/volume1/VOL100T  Online   \n",
      "5  nfs://192.168.1.80:/volume1/VOL100T  Online   \n",
      "6  nfs://192.168.1.80:/volume1/VOL100T  Online   \n",
      "7  nfs://192.168.1.80:/volume1/VOL100T  Online   \n",
      "8  nfs://192.168.1.80:/volume1/VOL100T  Online   \n",
      "9  nfs://192.168.1.80:/volume1/VOL100T  Online   \n",
      "\n",
      "                                         productLink  \n",
      "0  https://reliance-das.adamplatform.eu/wcs?servi...  \n",
      "1  https://reliance-das.adamplatform.eu/wcs?servi...  \n",
      "2  https://reliance-das.adamplatform.eu/wcs?servi...  \n",
      "3  https://reliance-das.adamplatform.eu/wcs?servi...  \n",
      "4  https://reliance-das.adamplatform.eu/wcs?servi...  \n",
      "5  https://reliance-das.adamplatform.eu/wcs?servi...  \n",
      "6  https://reliance-das.adamplatform.eu/wcs?servi...  \n",
      "7  https://reliance-das.adamplatform.eu/wcs?servi...  \n",
      "8  https://reliance-das.adamplatform.eu/wcs?servi...  \n",
      "9  https://reliance-das.adamplatform.eu/wcs?servi...  \n"
     ]
    }
   ],
   "source": [
    "my_res2_ext=rohub.resource_load(identifier=results.loc[1,\"identifier\"])\n",
    "my_res2_ext.download(resource_filename=\"myres_ext2.json\")\n",
    "\n",
    "#import json\n",
    "#with open(\"myres_ext2.json\") as jsonFile:\n",
    "#    jsonObject = json.load(jsonFile)\n",
    "#    jsonFile.close()\n",
    "#jsonObject\n",
    "\n",
    "import json\n",
    "import pandas as pd\n",
    "data = json.load(open('myres_ext2.json'))\n",
    "\n",
    "df = pd.DataFrame(data[\"features\"])\n",
    "print (df)"
   ]
  },
  {
   "cell_type": "code",
   "execution_count": 77,
   "id": "118f11d4-0a97-46ae-8835-da8c2fb55cbc",
   "metadata": {},
   "outputs": [
    {
     "name": "stdout",
     "output_type": "stream",
     "text": [
      "Resource was successfully loaded with id = da8fc20e-8b97-4399-b832-37a9856c0195\n",
      "File was successfully downloaded.\n"
     ]
    },
    {
     "data": {
      "text/html": [
       "<div>\n",
       "<style scoped>\n",
       "    .dataframe tbody tr th:only-of-type {\n",
       "        vertical-align: middle;\n",
       "    }\n",
       "\n",
       "    .dataframe tbody tr th {\n",
       "        vertical-align: top;\n",
       "    }\n",
       "\n",
       "    .dataframe thead th {\n",
       "        text-align: right;\n",
       "    }\n",
       "</style>\n",
       "<table border=\"1\" class=\"dataframe\">\n",
       "  <thead>\n",
       "    <tr style=\"text-align: right;\">\n",
       "      <th></th>\n",
       "      <th>seq</th>\n",
       "      <th>Dokumentnummer</th>\n",
       "      <th>Dokumenttype (kode)</th>\n",
       "      <th>Dokumenttype</th>\n",
       "      <th>Dokument versjonsnummer</th>\n",
       "      <th>Dokument salgsdato</th>\n",
       "      <th>Dokument versjonstidspunkt</th>\n",
       "      <th>Salgslag ID</th>\n",
       "      <th>Salgslag (kode)</th>\n",
       "      <th>Salgslag</th>\n",
       "      <th>...</th>\n",
       "      <th>Enhetspris for kjoper</th>\n",
       "      <th>Belop for kjoper</th>\n",
       "      <th>Enhetspris for fisker</th>\n",
       "      <th>Belop for fisker</th>\n",
       "      <th>Stottebelop</th>\n",
       "      <th>Lagsavgift</th>\n",
       "      <th>Inndradd fangstverdi</th>\n",
       "      <th>Etterbetaling</th>\n",
       "      <th>Fangstverdi</th>\n",
       "      <th>Oppdateringstidspunkt</th>\n",
       "    </tr>\n",
       "  </thead>\n",
       "  <tbody>\n",
       "    <tr>\n",
       "      <th>0</th>\n",
       "      <td>1</td>\n",
       "      <td>1555306</td>\n",
       "      <td>0</td>\n",
       "      <td>Sluttseddeldokument</td>\n",
       "      <td>2</td>\n",
       "      <td>31.01.2019</td>\n",
       "      <td>08.02.2019 13.56.08.997000000</td>\n",
       "      <td>951206091</td>\n",
       "      <td>8</td>\n",
       "      <td>Norges Sildesalgslag</td>\n",
       "      <td>...</td>\n",
       "      <td>NaN</td>\n",
       "      <td>NaN</td>\n",
       "      <td>NaN</td>\n",
       "      <td>NaN</td>\n",
       "      <td>NaN</td>\n",
       "      <td>NaN</td>\n",
       "      <td>NaN</td>\n",
       "      <td>NaN</td>\n",
       "      <td>NaN</td>\n",
       "      <td>01.07.2019</td>\n",
       "    </tr>\n",
       "    <tr>\n",
       "      <th>1</th>\n",
       "      <td>2</td>\n",
       "      <td>1555306</td>\n",
       "      <td>0</td>\n",
       "      <td>Sluttseddeldokument</td>\n",
       "      <td>2</td>\n",
       "      <td>31.01.2019</td>\n",
       "      <td>08.02.2019 13.56.08.997000000</td>\n",
       "      <td>951206091</td>\n",
       "      <td>8</td>\n",
       "      <td>Norges Sildesalgslag</td>\n",
       "      <td>...</td>\n",
       "      <td>NaN</td>\n",
       "      <td>NaN</td>\n",
       "      <td>NaN</td>\n",
       "      <td>NaN</td>\n",
       "      <td>NaN</td>\n",
       "      <td>NaN</td>\n",
       "      <td>NaN</td>\n",
       "      <td>NaN</td>\n",
       "      <td>NaN</td>\n",
       "      <td>01.07.2019</td>\n",
       "    </tr>\n",
       "    <tr>\n",
       "      <th>2</th>\n",
       "      <td>3</td>\n",
       "      <td>1555760</td>\n",
       "      <td>0</td>\n",
       "      <td>Sluttseddeldokument</td>\n",
       "      <td>3</td>\n",
       "      <td>21.03.2019</td>\n",
       "      <td>26.03.2019 12.36.32.099000000</td>\n",
       "      <td>951206091</td>\n",
       "      <td>8</td>\n",
       "      <td>Norges Sildesalgslag</td>\n",
       "      <td>...</td>\n",
       "      <td>NaN</td>\n",
       "      <td>NaN</td>\n",
       "      <td>NaN</td>\n",
       "      <td>NaN</td>\n",
       "      <td>NaN</td>\n",
       "      <td>NaN</td>\n",
       "      <td>NaN</td>\n",
       "      <td>NaN</td>\n",
       "      <td>NaN</td>\n",
       "      <td>01.07.2019</td>\n",
       "    </tr>\n",
       "    <tr>\n",
       "      <th>3</th>\n",
       "      <td>4</td>\n",
       "      <td>1555930</td>\n",
       "      <td>0</td>\n",
       "      <td>Sluttseddeldokument</td>\n",
       "      <td>3</td>\n",
       "      <td>20.04.2019</td>\n",
       "      <td>30.04.2019 07.08.05.912000000</td>\n",
       "      <td>951206091</td>\n",
       "      <td>8</td>\n",
       "      <td>Norges Sildesalgslag</td>\n",
       "      <td>...</td>\n",
       "      <td>NaN</td>\n",
       "      <td>NaN</td>\n",
       "      <td>NaN</td>\n",
       "      <td>NaN</td>\n",
       "      <td>NaN</td>\n",
       "      <td>NaN</td>\n",
       "      <td>NaN</td>\n",
       "      <td>NaN</td>\n",
       "      <td>NaN</td>\n",
       "      <td>01.07.2019</td>\n",
       "    </tr>\n",
       "    <tr>\n",
       "      <th>4</th>\n",
       "      <td>5</td>\n",
       "      <td>1555428</td>\n",
       "      <td>0</td>\n",
       "      <td>Sluttseddeldokument</td>\n",
       "      <td>6</td>\n",
       "      <td>10.02.2019</td>\n",
       "      <td>15.03.2019 08.18.03.116000000</td>\n",
       "      <td>951206091</td>\n",
       "      <td>8</td>\n",
       "      <td>Norges Sildesalgslag</td>\n",
       "      <td>...</td>\n",
       "      <td>NaN</td>\n",
       "      <td>NaN</td>\n",
       "      <td>NaN</td>\n",
       "      <td>NaN</td>\n",
       "      <td>NaN</td>\n",
       "      <td>NaN</td>\n",
       "      <td>NaN</td>\n",
       "      <td>NaN</td>\n",
       "      <td>NaN</td>\n",
       "      <td>01.07.2019</td>\n",
       "    </tr>\n",
       "    <tr>\n",
       "      <th>5</th>\n",
       "      <td>6</td>\n",
       "      <td>1555331</td>\n",
       "      <td>0</td>\n",
       "      <td>Sluttseddeldokument</td>\n",
       "      <td>3</td>\n",
       "      <td>03.02.2019</td>\n",
       "      <td>15.02.2019 14.54.00.488000000</td>\n",
       "      <td>951206091</td>\n",
       "      <td>8</td>\n",
       "      <td>Norges Sildesalgslag</td>\n",
       "      <td>...</td>\n",
       "      <td>NaN</td>\n",
       "      <td>NaN</td>\n",
       "      <td>NaN</td>\n",
       "      <td>NaN</td>\n",
       "      <td>NaN</td>\n",
       "      <td>NaN</td>\n",
       "      <td>NaN</td>\n",
       "      <td>NaN</td>\n",
       "      <td>NaN</td>\n",
       "      <td>01.07.2019</td>\n",
       "    </tr>\n",
       "    <tr>\n",
       "      <th>6</th>\n",
       "      <td>7</td>\n",
       "      <td>1557248</td>\n",
       "      <td>0</td>\n",
       "      <td>Sluttseddeldokument</td>\n",
       "      <td>1</td>\n",
       "      <td>NaN</td>\n",
       "      <td>29.06.2019 01.10.00.417000000</td>\n",
       "      <td>951206091</td>\n",
       "      <td>8</td>\n",
       "      <td>Norges Sildesalgslag</td>\n",
       "      <td>...</td>\n",
       "      <td>NaN</td>\n",
       "      <td>NaN</td>\n",
       "      <td>NaN</td>\n",
       "      <td>NaN</td>\n",
       "      <td>NaN</td>\n",
       "      <td>NaN</td>\n",
       "      <td>NaN</td>\n",
       "      <td>NaN</td>\n",
       "      <td>NaN</td>\n",
       "      <td>01.07.2019</td>\n",
       "    </tr>\n",
       "    <tr>\n",
       "      <th>7</th>\n",
       "      <td>8</td>\n",
       "      <td>1557248</td>\n",
       "      <td>0</td>\n",
       "      <td>Sluttseddeldokument</td>\n",
       "      <td>1</td>\n",
       "      <td>NaN</td>\n",
       "      <td>29.06.2019 01.10.00.417000000</td>\n",
       "      <td>951206091</td>\n",
       "      <td>8</td>\n",
       "      <td>Norges Sildesalgslag</td>\n",
       "      <td>...</td>\n",
       "      <td>NaN</td>\n",
       "      <td>NaN</td>\n",
       "      <td>NaN</td>\n",
       "      <td>NaN</td>\n",
       "      <td>NaN</td>\n",
       "      <td>NaN</td>\n",
       "      <td>NaN</td>\n",
       "      <td>NaN</td>\n",
       "      <td>NaN</td>\n",
       "      <td>01.07.2019</td>\n",
       "    </tr>\n",
       "    <tr>\n",
       "      <th>8</th>\n",
       "      <td>9</td>\n",
       "      <td>1557248</td>\n",
       "      <td>0</td>\n",
       "      <td>Sluttseddeldokument</td>\n",
       "      <td>1</td>\n",
       "      <td>NaN</td>\n",
       "      <td>29.06.2019 01.10.00.417000000</td>\n",
       "      <td>951206091</td>\n",
       "      <td>8</td>\n",
       "      <td>Norges Sildesalgslag</td>\n",
       "      <td>...</td>\n",
       "      <td>NaN</td>\n",
       "      <td>NaN</td>\n",
       "      <td>NaN</td>\n",
       "      <td>NaN</td>\n",
       "      <td>NaN</td>\n",
       "      <td>NaN</td>\n",
       "      <td>NaN</td>\n",
       "      <td>NaN</td>\n",
       "      <td>NaN</td>\n",
       "      <td>01.07.2019</td>\n",
       "    </tr>\n",
       "    <tr>\n",
       "      <th>9</th>\n",
       "      <td>10</td>\n",
       "      <td>1557248</td>\n",
       "      <td>0</td>\n",
       "      <td>Sluttseddeldokument</td>\n",
       "      <td>1</td>\n",
       "      <td>NaN</td>\n",
       "      <td>29.06.2019 01.10.00.417000000</td>\n",
       "      <td>951206091</td>\n",
       "      <td>8</td>\n",
       "      <td>Norges Sildesalgslag</td>\n",
       "      <td>...</td>\n",
       "      <td>NaN</td>\n",
       "      <td>NaN</td>\n",
       "      <td>NaN</td>\n",
       "      <td>NaN</td>\n",
       "      <td>NaN</td>\n",
       "      <td>NaN</td>\n",
       "      <td>NaN</td>\n",
       "      <td>NaN</td>\n",
       "      <td>NaN</td>\n",
       "      <td>01.07.2019</td>\n",
       "    </tr>\n",
       "  </tbody>\n",
       "</table>\n",
       "<p>10 rows × 133 columns</p>\n",
       "</div>"
      ],
      "text/plain": [
       "   seq  Dokumentnummer  Dokumenttype (kode)         Dokumenttype  \\\n",
       "0    1         1555306                    0  Sluttseddeldokument   \n",
       "1    2         1555306                    0  Sluttseddeldokument   \n",
       "2    3         1555760                    0  Sluttseddeldokument   \n",
       "3    4         1555930                    0  Sluttseddeldokument   \n",
       "4    5         1555428                    0  Sluttseddeldokument   \n",
       "5    6         1555331                    0  Sluttseddeldokument   \n",
       "6    7         1557248                    0  Sluttseddeldokument   \n",
       "7    8         1557248                    0  Sluttseddeldokument   \n",
       "8    9         1557248                    0  Sluttseddeldokument   \n",
       "9   10         1557248                    0  Sluttseddeldokument   \n",
       "\n",
       "   Dokument versjonsnummer Dokument salgsdato     Dokument versjonstidspunkt  \\\n",
       "0                        2         31.01.2019  08.02.2019 13.56.08.997000000   \n",
       "1                        2         31.01.2019  08.02.2019 13.56.08.997000000   \n",
       "2                        3         21.03.2019  26.03.2019 12.36.32.099000000   \n",
       "3                        3         20.04.2019  30.04.2019 07.08.05.912000000   \n",
       "4                        6         10.02.2019  15.03.2019 08.18.03.116000000   \n",
       "5                        3         03.02.2019  15.02.2019 14.54.00.488000000   \n",
       "6                        1                NaN  29.06.2019 01.10.00.417000000   \n",
       "7                        1                NaN  29.06.2019 01.10.00.417000000   \n",
       "8                        1                NaN  29.06.2019 01.10.00.417000000   \n",
       "9                        1                NaN  29.06.2019 01.10.00.417000000   \n",
       "\n",
       "   Salgslag ID  Salgslag (kode)              Salgslag  ...  \\\n",
       "0    951206091                8  Norges Sildesalgslag  ...   \n",
       "1    951206091                8  Norges Sildesalgslag  ...   \n",
       "2    951206091                8  Norges Sildesalgslag  ...   \n",
       "3    951206091                8  Norges Sildesalgslag  ...   \n",
       "4    951206091                8  Norges Sildesalgslag  ...   \n",
       "5    951206091                8  Norges Sildesalgslag  ...   \n",
       "6    951206091                8  Norges Sildesalgslag  ...   \n",
       "7    951206091                8  Norges Sildesalgslag  ...   \n",
       "8    951206091                8  Norges Sildesalgslag  ...   \n",
       "9    951206091                8  Norges Sildesalgslag  ...   \n",
       "\n",
       "   Enhetspris for kjoper Belop for kjoper Enhetspris for fisker  \\\n",
       "0                    NaN              NaN                   NaN   \n",
       "1                    NaN              NaN                   NaN   \n",
       "2                    NaN              NaN                   NaN   \n",
       "3                    NaN              NaN                   NaN   \n",
       "4                    NaN              NaN                   NaN   \n",
       "5                    NaN              NaN                   NaN   \n",
       "6                    NaN              NaN                   NaN   \n",
       "7                    NaN              NaN                   NaN   \n",
       "8                    NaN              NaN                   NaN   \n",
       "9                    NaN              NaN                   NaN   \n",
       "\n",
       "   Belop for fisker  Stottebelop Lagsavgift  Inndradd fangstverdi  \\\n",
       "0               NaN          NaN        NaN                   NaN   \n",
       "1               NaN          NaN        NaN                   NaN   \n",
       "2               NaN          NaN        NaN                   NaN   \n",
       "3               NaN          NaN        NaN                   NaN   \n",
       "4               NaN          NaN        NaN                   NaN   \n",
       "5               NaN          NaN        NaN                   NaN   \n",
       "6               NaN          NaN        NaN                   NaN   \n",
       "7               NaN          NaN        NaN                   NaN   \n",
       "8               NaN          NaN        NaN                   NaN   \n",
       "9               NaN          NaN        NaN                   NaN   \n",
       "\n",
       "  Etterbetaling Fangstverdi Oppdateringstidspunkt  \n",
       "0           NaN         NaN            01.07.2019  \n",
       "1           NaN         NaN            01.07.2019  \n",
       "2           NaN         NaN            01.07.2019  \n",
       "3           NaN         NaN            01.07.2019  \n",
       "4           NaN         NaN            01.07.2019  \n",
       "5           NaN         NaN            01.07.2019  \n",
       "6           NaN         NaN            01.07.2019  \n",
       "7           NaN         NaN            01.07.2019  \n",
       "8           NaN         NaN            01.07.2019  \n",
       "9           NaN         NaN            01.07.2019  \n",
       "\n",
       "[10 rows x 133 columns]"
      ]
     },
     "execution_count": 77,
     "metadata": {},
     "output_type": "execute_result"
    }
   ],
   "source": [
    "my_res3_ext=rohub.resource_load(identifier=results.loc[2,\"identifier\"])\n",
    "my_res3_ext.download(resource_filename=\"myres_ext3.csv\")\n",
    "\n",
    "import pandas as pd\n",
    "pd.read_csv(\"myres_ext3.csv\")"
   ]
  },
  {
   "cell_type": "markdown",
   "id": "68016f88-227f-4f98-8a60-81e0d75086b7",
   "metadata": {
    "tags": []
   },
   "source": [
    "### Assign DOI"
   ]
  },
  {
   "cell_type": "code",
   "execution_count": null,
   "id": "2b59a17a-df12-4019-b30a-b8514b08c248",
   "metadata": {},
   "outputs": [],
   "source": [
    "my_res1_ext.assign_doi()"
   ]
  },
  {
   "cell_type": "markdown",
   "id": "2e2700cc-ad87-4dd8-a8ff-b17a2899fdb2",
   "metadata": {},
   "source": [
    "## Utils"
   ]
  },
  {
   "cell_type": "markdown",
   "id": "5a85793f-393f-451a-aebb-c52e36a84c7b",
   "metadata": {},
   "source": [
    "### remove RO"
   ]
  },
  {
   "cell_type": "code",
   "execution_count": null,
   "id": "c506b2ca-57fa-4eb2-bf2d-7abd00fad827",
   "metadata": {},
   "outputs": [],
   "source": [
    "forked_ro.delete()\n",
    "#ro_id_to_delete=\"55a0fbe5-fde3-40cb-9ea0-1eacd3cda8d1\"\n",
    "#rohub.ros_delete(identifier=ro_id_to_delete)"
   ]
  },
  {
   "cell_type": "markdown",
   "id": "bb06e56f-01f6-44d1-9769-526e8c80149e",
   "metadata": {},
   "source": [
    "### show user id"
   ]
  },
  {
   "cell_type": "code",
   "execution_count": null,
   "id": "b6ce0c86-3397-4a8a-9045-565024972a0f",
   "metadata": {},
   "outputs": [],
   "source": [
    "rohub.show_user_id()"
   ]
  },
  {
   "cell_type": "markdown",
   "id": "933c1985-a529-4f41-8bad-7a4be128d519",
   "metadata": {},
   "source": [
    "### show possible values for RO types, Resources types, templates, etc."
   ]
  },
  {
   "cell_type": "code",
   "execution_count": null,
   "id": "8ae655f0-1eb0-4bc0-89f1-67f83cbeb6e9",
   "metadata": {},
   "outputs": [],
   "source": [
    "rohub.list_valid_research_areas()"
   ]
  },
  {
   "cell_type": "code",
   "execution_count": null,
   "id": "44f889e7-f7a9-49cb-a36b-6d6b2f20d189",
   "metadata": {},
   "outputs": [],
   "source": [
    "rohub.list_valid_ros_types()"
   ]
  },
  {
   "cell_type": "code",
   "execution_count": null,
   "id": "9bdf7730-7047-4340-9e37-d0f39a892d22",
   "metadata": {},
   "outputs": [],
   "source": [
    "rohub.list_valid_publication_services()"
   ]
  },
  {
   "cell_type": "code",
   "execution_count": null,
   "id": "00ef17ad-dca5-478b-82e0-c2d527e2ade9",
   "metadata": {},
   "outputs": [],
   "source": [
    "rohub.list_valid_resource_types()"
   ]
  },
  {
   "cell_type": "code",
   "execution_count": null,
   "id": "d3fad5e7-c9c3-4263-9bd7-2cd76e8ff456",
   "metadata": {},
   "outputs": [],
   "source": [
    "rohub.list_valid_creation_modes()"
   ]
  },
  {
   "cell_type": "code",
   "execution_count": null,
   "id": "b5c51b78-5023-4498-8271-1857c00f4970",
   "metadata": {},
   "outputs": [],
   "source": [
    "rohub.list_valid_access_modes()"
   ]
  },
  {
   "cell_type": "code",
   "execution_count": null,
   "id": "4d093754-9bde-40bb-848e-3aa063f0c094",
   "metadata": {},
   "outputs": [],
   "source": [
    "rohub.list_custom_licenses()"
   ]
  },
  {
   "cell_type": "code",
   "execution_count": null,
   "id": "3e8f91f8-3e6d-4231-b9f9-eeff478682ed",
   "metadata": {},
   "outputs": [],
   "source": [
    "rohub.list_available_licenses()"
   ]
  },
  {
   "cell_type": "code",
   "execution_count": null,
   "id": "caff18b5-73d0-4175-89c7-d8b0f5c1c1cb",
   "metadata": {},
   "outputs": [],
   "source": [
    "rohub.show_valid_type_matching_for_ros()"
   ]
  },
  {
   "cell_type": "markdown",
   "id": "4901e031-47b7-43cc-b25e-2c29a33ce9a5",
   "metadata": {},
   "source": [
    "### create external user"
   ]
  },
  {
   "cell_type": "code",
   "execution_count": null,
   "id": "226023d0-8553-4fae-a4c7-c959b87d90fc",
   "metadata": {},
   "outputs": [],
   "source": [
    "rohub.external_user_add(user_id=\"https://orcid.org/0000-0003-3784-6651\", \n",
    "                        display_name=\"Nieves Pepito\", \n",
    "                        email=\"npepito@hotmail.com\",\n",
    "                        orcid_id=\"0000-0003-3784-6651\",\n",
    "                        affiliation=\"UNO-Recoletos\")"
   ]
  },
  {
   "cell_type": "markdown",
   "id": "de1bb814-0cf7-4c46-8523-1c514a87a0ac",
   "metadata": {},
   "source": [
    "### delete external user"
   ]
  },
  {
   "cell_type": "code",
   "execution_count": null,
   "id": "f165900c-8427-4b1c-9d37-1f1dc5e5dc93",
   "metadata": {},
   "outputs": [],
   "source": [
    "user_id=\"6e97b8cd-8139-45ee-ae30-55946d00bf62\"\n",
    "admin.delete_external_user(user_identifier=user_id)"
   ]
  },
  {
   "cell_type": "markdown",
   "id": "3e34261f-bfc6-41c4-adf6-792c5f01dc9f",
   "metadata": {},
   "source": [
    "### create organization"
   ]
  },
  {
   "cell_type": "code",
   "execution_count": null,
   "id": "960edb4f-f779-4b4b-bf23-7b51615bf69c",
   "metadata": {},
   "outputs": [],
   "source": [
    "rohub.organization_add(organization_id=\"https://ror.org/025cj6e44\",\n",
    "                       display_name=\"Poznan Supercomputing and Networking Center\",\n",
    "                       email=\"office@man.poznan.pl\",\n",
    "                       ror_identifier=\"025cj6e44\",\n",
    "                       organization_url=\"https://www.psnc.pl/\")"
   ]
  },
  {
   "cell_type": "markdown",
   "id": "174eaf4f-778e-494c-9e29-dc758dbc6a51",
   "metadata": {},
   "source": [
    "### delete organization"
   ]
  },
  {
   "cell_type": "code",
   "execution_count": null,
   "id": "2e2bbf5e-09ff-4daf-975b-925291ffab2b",
   "metadata": {},
   "outputs": [],
   "source": [
    "org_id=\"9eea3b38-367a-4b00-b4fa-a736752aa134\"\"\n",
    "admin.delete_organization(organization_identifier=org_id)"
   ]
  },
  {
   "cell_type": "markdown",
   "id": "af3f8253-e2a4-49c6-a715-627667d15641",
   "metadata": {},
   "source": [
    "### load full metadata"
   ]
  },
  {
   "cell_type": "code",
   "execution_count": null,
   "id": "10e6fac8-61e0-41e4-83ac-3c458b76153a",
   "metadata": {},
   "outputs": [],
   "source": [
    "ro.load_full_metadata()"
   ]
  },
  {
   "cell_type": "code",
   "execution_count": null,
   "id": "c732d7ef-be60-487d-82d2-c0d765008f3f",
   "metadata": {},
   "outputs": [],
   "source": [
    "ro.show_full_metadata()"
   ]
  },
  {
   "cell_type": "markdown",
   "id": "c44ae7b0-a487-4d5f-b289-3b1ed7910759",
   "metadata": {},
   "source": [
    "### Set evolution setting"
   ]
  },
  {
   "cell_type": "code",
   "execution_count": null,
   "id": "46cdc179-a967-412f-8c32-f33b6da3f7e8",
   "metadata": {},
   "outputs": [],
   "source": [
    "#default 30\n",
    "rohub.set_retries(50)"
   ]
  },
  {
   "cell_type": "code",
   "execution_count": null,
   "id": "5fe83aca-9524-4b7f-94a0-4b80250fd61e",
   "metadata": {},
   "outputs": [],
   "source": [
    "# default 2\n",
    "rohub.set_sleep_time(5)"
   ]
  },
  {
   "cell_type": "markdown",
   "id": "1f6a3afe-b359-486e-a483-f1e199580ab1",
   "metadata": {},
   "source": [
    "### add annotation general"
   ]
  },
  {
   "cell_type": "code",
   "execution_count": null,
   "id": "2e89d38f-3780-49c2-b352-29f9767a4c03",
   "metadata": {},
   "outputs": [],
   "source": [
    "ro.add_annotations(body_specification_json=geojson_as_text_point)"
   ]
  },
  {
   "cell_type": "markdown",
   "id": "8fafd999-df7a-4ab5-be44-1fb7d459e473",
   "metadata": {},
   "source": [
    "### remove annotation"
   ]
  },
  {
   "cell_type": "code",
   "execution_count": null,
   "id": "602b43f9-941d-4e93-892f-a3c6e52ed664",
   "metadata": {},
   "outputs": [],
   "source": [
    "annot_id=\"e8589553-40de-4e49-b966-204502ce3780\"\n",
    "ro.delete_annotation(annotation_id=annot_id)"
   ]
  },
  {
   "cell_type": "markdown",
   "id": "fd4426c5-2781-4142-9b23-4789987c0e0c",
   "metadata": {},
   "source": [
    "### add triple"
   ]
  },
  {
   "cell_type": "code",
   "execution_count": null,
   "id": "9da464bc-bac1-45cd-86fb-66c89bff92eb",
   "metadata": {},
   "outputs": [],
   "source": [
    "the_subject=\"https://w3id.org/ro-id-dev/e03c908f-caa7-4b8c-b273-8ad59762725d\"\n",
    "the_predicate=\"http://purl.org/dc/terms/audiencex\"\n",
    "the_object=\"general public 2\"\n",
    "annotation_id=\"1f592b0c-8ffe-4f24-8a0d-a3bf8d18ade7\"\n",
    "ro.add_triple(the_subject=the_subject, the_predicate=the_predicate, the_object=the_object, annotation_id=annotation_id)"
   ]
  }
 ],
 "metadata": {
  "kernelspec": {
   "display_name": "Python 3",
   "language": "python",
   "name": "python3"
  },
  "language_info": {
   "codemirror_mode": {
    "name": "ipython",
    "version": 3
   },
   "file_extension": ".py",
   "mimetype": "text/x-python",
   "name": "python",
   "nbconvert_exporter": "python",
   "pygments_lexer": "ipython3",
   "version": "3.8.8"
  },
  "toc-autonumbering": true,
  "toc-showmarkdowntxt": false
 },
 "nbformat": 4,
 "nbformat_minor": 5
}
